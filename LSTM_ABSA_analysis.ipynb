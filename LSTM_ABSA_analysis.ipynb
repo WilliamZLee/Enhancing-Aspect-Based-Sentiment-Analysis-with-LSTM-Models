{
  "nbformat": 4,
  "nbformat_minor": 0,
  "metadata": {
    "colab": {
      "provenance": [],
      "gpuType": "A100",
      "machine_shape": "hm"
    },
    "kernelspec": {
      "name": "python3",
      "display_name": "Python 3"
    },
    "language_info": {
      "name": "python"
    },
    "accelerator": "GPU"
  },
  "cells": [
    {
      "cell_type": "markdown",
      "source": [
        "# 2024 CITS4012 Project"
      ],
      "metadata": {
        "id": "m9aa7lcbYKxk"
      }
    },
    {
      "cell_type": "markdown",
      "source": [
        "**Group 38**\n",
        "\n",
        "\n",
        "Liweiwen Zhou 24100792\n",
        "Zirui Xiong 24140167\n",
        "\n",
        "The Project has been uploaded to Github, for test running please refer to:\n",
        "https://github.com/WilliamZLee/Enhancing-Aspect-Based-Sentiment-Analysis-with-LSTM-Models"
      ],
      "metadata": {
        "id": "oLFxl3VHZEeT"
      }
    },
    {
      "cell_type": "markdown",
      "source": [
        "# **Environment set, package import**"
      ],
      "metadata": {
        "id": "nwSbAxwHlxk1"
      }
    },
    {
      "cell_type": "code",
      "source": [
        "! /opt/bin/nvidia-smi"
      ],
      "metadata": {
        "colab": {
          "base_uri": "https://localhost:8080/"
        },
        "id": "VUk_uxH577-l",
        "outputId": "8960444d-a3dc-4941-e0f6-9bf81b6a44fe"
      },
      "execution_count": null,
      "outputs": [
        {
          "output_type": "stream",
          "name": "stdout",
          "text": [
            "Sun May 19 18:50:17 2024       \n",
            "+---------------------------------------------------------------------------------------+\n",
            "| NVIDIA-SMI 535.104.05             Driver Version: 535.104.05   CUDA Version: 12.2     |\n",
            "|-----------------------------------------+----------------------+----------------------+\n",
            "| GPU  Name                 Persistence-M | Bus-Id        Disp.A | Volatile Uncorr. ECC |\n",
            "| Fan  Temp   Perf          Pwr:Usage/Cap |         Memory-Usage | GPU-Util  Compute M. |\n",
            "|                                         |                      |               MIG M. |\n",
            "|=========================================+======================+======================|\n",
            "|   0  NVIDIA A100-SXM4-40GB          Off | 00000000:00:04.0 Off |                    0 |\n",
            "| N/A   32C    P0              44W / 400W |      2MiB / 40960MiB |      0%      Default |\n",
            "|                                         |                      |             Disabled |\n",
            "+-----------------------------------------+----------------------+----------------------+\n",
            "                                                                                         \n",
            "+---------------------------------------------------------------------------------------+\n",
            "| Processes:                                                                            |\n",
            "|  GPU   GI   CI        PID   Type   Process name                            GPU Memory |\n",
            "|        ID   ID                                                             Usage      |\n",
            "|=======================================================================================|\n",
            "|  No running processes found                                                           |\n",
            "+---------------------------------------------------------------------------------------+\n"
          ]
        }
      ]
    },
    {
      "cell_type": "code",
      "source": [
        "from google.colab import drive\n",
        "drive.mount('/content/drive/')"
      ],
      "metadata": {
        "colab": {
          "base_uri": "https://localhost:8080/"
        },
        "id": "KMYENzgv78gM",
        "outputId": "a4bd06ac-7f1f-45ee-93a8-ff2387424135"
      },
      "execution_count": null,
      "outputs": [
        {
          "output_type": "stream",
          "name": "stdout",
          "text": [
            "Drive already mounted at /content/drive/; to attempt to forcibly remount, call drive.mount(\"/content/drive/\", force_remount=True).\n"
          ]
        }
      ]
    },
    {
      "cell_type": "code",
      "source": [
        "%cd /content/drive/MyDrive/Colab Notebooks\n",
        "!ls"
      ],
      "metadata": {
        "id": "TOk-yGda8Kac",
        "colab": {
          "base_uri": "https://localhost:8080/"
        },
        "outputId": "c43b6025-6708-4c87-8a06-d302329f9848"
      },
      "execution_count": null,
      "outputs": [
        {
          "output_type": "stream",
          "name": "stdout",
          "text": [
            "/content/drive/MyDrive/Colab Notebooks\n",
            " “CITS4012_Lab01.ipynb”的副本\t     “CITS4012_Lab07.ipynb”的副本   test.json\n",
            "'“CITS4012_Lab01.ipynb”的副本 (1)'   “CITS4012_Lab08.ipynb”的副本   train.json\n",
            " “CITS4012_Lab02.ipynb”的副本\t     “CITS4012_Lab09.ipynb”的副本   Untitled0.ipynb\n",
            " “CITS4012_Lab03.ipynb”的副本\t     “CITS4012_Lab10.ipynb”的副本   Untitled1.ipynb\n",
            " “CITS4012_Lab04.ipynb”的副本\t     cuhk_sysu.zip\t\t    Untitled2.ipynb\n",
            " “CITS4012_Lab05.ipynb”的副本\t     exp_cuhk.zip\t\t    val.json\n",
            " “CITS4012_Lab06.ipynb”的副本\t     exp_prw.zip\n"
          ]
        }
      ]
    },
    {
      "cell_type": "code",
      "source": [
        "!pip install nltk\n",
        "import nltk\n",
        "nltk.download('punkt')"
      ],
      "metadata": {
        "colab": {
          "base_uri": "https://localhost:8080/"
        },
        "id": "1yJ1SdEE-Oci",
        "outputId": "5f1c91a6-5a33-4e1c-828e-2e19762ab759"
      },
      "execution_count": null,
      "outputs": [
        {
          "output_type": "stream",
          "name": "stdout",
          "text": [
            "Requirement already satisfied: nltk in /usr/local/lib/python3.10/dist-packages (3.8.1)\n",
            "Requirement already satisfied: click in /usr/local/lib/python3.10/dist-packages (from nltk) (8.1.7)\n",
            "Requirement already satisfied: joblib in /usr/local/lib/python3.10/dist-packages (from nltk) (1.4.2)\n",
            "Requirement already satisfied: regex>=2021.8.3 in /usr/local/lib/python3.10/dist-packages (from nltk) (2023.12.25)\n",
            "Requirement already satisfied: tqdm in /usr/local/lib/python3.10/dist-packages (from nltk) (4.66.4)\n"
          ]
        },
        {
          "output_type": "stream",
          "name": "stderr",
          "text": [
            "[nltk_data] Downloading package punkt to /root/nltk_data...\n",
            "[nltk_data]   Unzipping tokenizers/punkt.zip.\n"
          ]
        },
        {
          "output_type": "execute_result",
          "data": {
            "text/plain": [
              "True"
            ]
          },
          "metadata": {},
          "execution_count": 4
        }
      ]
    },
    {
      "cell_type": "code",
      "source": [
        "!pip install ipywidgets"
      ],
      "metadata": {
        "colab": {
          "base_uri": "https://localhost:8080/"
        },
        "id": "nVVPbS3hX0D4",
        "outputId": "d80c05c3-e8b4-4849-ad9a-c2d9e6567991"
      },
      "execution_count": null,
      "outputs": [
        {
          "output_type": "stream",
          "name": "stdout",
          "text": [
            "Requirement already satisfied: ipywidgets in /usr/local/lib/python3.10/dist-packages (7.7.1)\n",
            "Requirement already satisfied: ipykernel>=4.5.1 in /usr/local/lib/python3.10/dist-packages (from ipywidgets) (5.5.6)\n",
            "Requirement already satisfied: ipython-genutils~=0.2.0 in /usr/local/lib/python3.10/dist-packages (from ipywidgets) (0.2.0)\n",
            "Requirement already satisfied: traitlets>=4.3.1 in /usr/local/lib/python3.10/dist-packages (from ipywidgets) (5.7.1)\n",
            "Requirement already satisfied: widgetsnbextension~=3.6.0 in /usr/local/lib/python3.10/dist-packages (from ipywidgets) (3.6.6)\n",
            "Requirement already satisfied: ipython>=4.0.0 in /usr/local/lib/python3.10/dist-packages (from ipywidgets) (7.34.0)\n",
            "Requirement already satisfied: jupyterlab-widgets>=1.0.0 in /usr/local/lib/python3.10/dist-packages (from ipywidgets) (3.0.10)\n",
            "Requirement already satisfied: jupyter-client in /usr/local/lib/python3.10/dist-packages (from ipykernel>=4.5.1->ipywidgets) (6.1.12)\n",
            "Requirement already satisfied: tornado>=4.2 in /usr/local/lib/python3.10/dist-packages (from ipykernel>=4.5.1->ipywidgets) (6.3.3)\n",
            "Requirement already satisfied: setuptools>=18.5 in /usr/local/lib/python3.10/dist-packages (from ipython>=4.0.0->ipywidgets) (67.7.2)\n",
            "Collecting jedi>=0.16 (from ipython>=4.0.0->ipywidgets)\n",
            "  Downloading jedi-0.19.1-py2.py3-none-any.whl (1.6 MB)\n",
            "\u001b[2K     \u001b[90m━━━━━━━━━━━━━━━━━━━━━━━━━━━━━━━━━━━━━━━━\u001b[0m \u001b[32m1.6/1.6 MB\u001b[0m \u001b[31m33.2 MB/s\u001b[0m eta \u001b[36m0:00:00\u001b[0m\n",
            "\u001b[?25hRequirement already satisfied: decorator in /usr/local/lib/python3.10/dist-packages (from ipython>=4.0.0->ipywidgets) (4.4.2)\n",
            "Requirement already satisfied: pickleshare in /usr/local/lib/python3.10/dist-packages (from ipython>=4.0.0->ipywidgets) (0.7.5)\n",
            "Requirement already satisfied: prompt-toolkit!=3.0.0,!=3.0.1,<3.1.0,>=2.0.0 in /usr/local/lib/python3.10/dist-packages (from ipython>=4.0.0->ipywidgets) (3.0.43)\n",
            "Requirement already satisfied: pygments in /usr/local/lib/python3.10/dist-packages (from ipython>=4.0.0->ipywidgets) (2.16.1)\n",
            "Requirement already satisfied: backcall in /usr/local/lib/python3.10/dist-packages (from ipython>=4.0.0->ipywidgets) (0.2.0)\n",
            "Requirement already satisfied: matplotlib-inline in /usr/local/lib/python3.10/dist-packages (from ipython>=4.0.0->ipywidgets) (0.1.7)\n",
            "Requirement already satisfied: pexpect>4.3 in /usr/local/lib/python3.10/dist-packages (from ipython>=4.0.0->ipywidgets) (4.9.0)\n",
            "Requirement already satisfied: notebook>=4.4.1 in /usr/local/lib/python3.10/dist-packages (from widgetsnbextension~=3.6.0->ipywidgets) (6.5.5)\n",
            "Requirement already satisfied: parso<0.9.0,>=0.8.3 in /usr/local/lib/python3.10/dist-packages (from jedi>=0.16->ipython>=4.0.0->ipywidgets) (0.8.4)\n",
            "Requirement already satisfied: jinja2 in /usr/local/lib/python3.10/dist-packages (from notebook>=4.4.1->widgetsnbextension~=3.6.0->ipywidgets) (3.1.4)\n",
            "Requirement already satisfied: pyzmq<25,>=17 in /usr/local/lib/python3.10/dist-packages (from notebook>=4.4.1->widgetsnbextension~=3.6.0->ipywidgets) (24.0.1)\n",
            "Requirement already satisfied: argon2-cffi in /usr/local/lib/python3.10/dist-packages (from notebook>=4.4.1->widgetsnbextension~=3.6.0->ipywidgets) (23.1.0)\n",
            "Requirement already satisfied: jupyter-core>=4.6.1 in /usr/local/lib/python3.10/dist-packages (from notebook>=4.4.1->widgetsnbextension~=3.6.0->ipywidgets) (5.7.2)\n",
            "Requirement already satisfied: nbformat in /usr/local/lib/python3.10/dist-packages (from notebook>=4.4.1->widgetsnbextension~=3.6.0->ipywidgets) (5.10.4)\n",
            "Requirement already satisfied: nbconvert>=5 in /usr/local/lib/python3.10/dist-packages (from notebook>=4.4.1->widgetsnbextension~=3.6.0->ipywidgets) (6.5.4)\n",
            "Requirement already satisfied: nest-asyncio>=1.5 in /usr/local/lib/python3.10/dist-packages (from notebook>=4.4.1->widgetsnbextension~=3.6.0->ipywidgets) (1.6.0)\n",
            "Requirement already satisfied: Send2Trash>=1.8.0 in /usr/local/lib/python3.10/dist-packages (from notebook>=4.4.1->widgetsnbextension~=3.6.0->ipywidgets) (1.8.3)\n",
            "Requirement already satisfied: terminado>=0.8.3 in /usr/local/lib/python3.10/dist-packages (from notebook>=4.4.1->widgetsnbextension~=3.6.0->ipywidgets) (0.18.1)\n",
            "Requirement already satisfied: prometheus-client in /usr/local/lib/python3.10/dist-packages (from notebook>=4.4.1->widgetsnbextension~=3.6.0->ipywidgets) (0.20.0)\n",
            "Requirement already satisfied: nbclassic>=0.4.7 in /usr/local/lib/python3.10/dist-packages (from notebook>=4.4.1->widgetsnbextension~=3.6.0->ipywidgets) (1.0.0)\n",
            "Requirement already satisfied: python-dateutil>=2.1 in /usr/local/lib/python3.10/dist-packages (from jupyter-client->ipykernel>=4.5.1->ipywidgets) (2.8.2)\n",
            "Requirement already satisfied: ptyprocess>=0.5 in /usr/local/lib/python3.10/dist-packages (from pexpect>4.3->ipython>=4.0.0->ipywidgets) (0.7.0)\n",
            "Requirement already satisfied: wcwidth in /usr/local/lib/python3.10/dist-packages (from prompt-toolkit!=3.0.0,!=3.0.1,<3.1.0,>=2.0.0->ipython>=4.0.0->ipywidgets) (0.2.13)\n",
            "Requirement already satisfied: platformdirs>=2.5 in /usr/local/lib/python3.10/dist-packages (from jupyter-core>=4.6.1->notebook>=4.4.1->widgetsnbextension~=3.6.0->ipywidgets) (4.2.1)\n",
            "Requirement already satisfied: jupyter-server>=1.8 in /usr/local/lib/python3.10/dist-packages (from nbclassic>=0.4.7->notebook>=4.4.1->widgetsnbextension~=3.6.0->ipywidgets) (1.24.0)\n",
            "Requirement already satisfied: notebook-shim>=0.2.3 in /usr/local/lib/python3.10/dist-packages (from nbclassic>=0.4.7->notebook>=4.4.1->widgetsnbextension~=3.6.0->ipywidgets) (0.2.4)\n",
            "Requirement already satisfied: lxml in /usr/local/lib/python3.10/dist-packages (from nbconvert>=5->notebook>=4.4.1->widgetsnbextension~=3.6.0->ipywidgets) (4.9.4)\n",
            "Requirement already satisfied: beautifulsoup4 in /usr/local/lib/python3.10/dist-packages (from nbconvert>=5->notebook>=4.4.1->widgetsnbextension~=3.6.0->ipywidgets) (4.12.3)\n",
            "Requirement already satisfied: bleach in /usr/local/lib/python3.10/dist-packages (from nbconvert>=5->notebook>=4.4.1->widgetsnbextension~=3.6.0->ipywidgets) (6.1.0)\n",
            "Requirement already satisfied: defusedxml in /usr/local/lib/python3.10/dist-packages (from nbconvert>=5->notebook>=4.4.1->widgetsnbextension~=3.6.0->ipywidgets) (0.7.1)\n",
            "Requirement already satisfied: entrypoints>=0.2.2 in /usr/local/lib/python3.10/dist-packages (from nbconvert>=5->notebook>=4.4.1->widgetsnbextension~=3.6.0->ipywidgets) (0.4)\n",
            "Requirement already satisfied: jupyterlab-pygments in /usr/local/lib/python3.10/dist-packages (from nbconvert>=5->notebook>=4.4.1->widgetsnbextension~=3.6.0->ipywidgets) (0.3.0)\n",
            "Requirement already satisfied: MarkupSafe>=2.0 in /usr/local/lib/python3.10/dist-packages (from nbconvert>=5->notebook>=4.4.1->widgetsnbextension~=3.6.0->ipywidgets) (2.1.5)\n",
            "Requirement already satisfied: mistune<2,>=0.8.1 in /usr/local/lib/python3.10/dist-packages (from nbconvert>=5->notebook>=4.4.1->widgetsnbextension~=3.6.0->ipywidgets) (0.8.4)\n",
            "Requirement already satisfied: nbclient>=0.5.0 in /usr/local/lib/python3.10/dist-packages (from nbconvert>=5->notebook>=4.4.1->widgetsnbextension~=3.6.0->ipywidgets) (0.10.0)\n",
            "Requirement already satisfied: packaging in /usr/local/lib/python3.10/dist-packages (from nbconvert>=5->notebook>=4.4.1->widgetsnbextension~=3.6.0->ipywidgets) (24.0)\n",
            "Requirement already satisfied: pandocfilters>=1.4.1 in /usr/local/lib/python3.10/dist-packages (from nbconvert>=5->notebook>=4.4.1->widgetsnbextension~=3.6.0->ipywidgets) (1.5.1)\n",
            "Requirement already satisfied: tinycss2 in /usr/local/lib/python3.10/dist-packages (from nbconvert>=5->notebook>=4.4.1->widgetsnbextension~=3.6.0->ipywidgets) (1.3.0)\n",
            "Requirement already satisfied: fastjsonschema>=2.15 in /usr/local/lib/python3.10/dist-packages (from nbformat->notebook>=4.4.1->widgetsnbextension~=3.6.0->ipywidgets) (2.19.1)\n",
            "Requirement already satisfied: jsonschema>=2.6 in /usr/local/lib/python3.10/dist-packages (from nbformat->notebook>=4.4.1->widgetsnbextension~=3.6.0->ipywidgets) (4.19.2)\n",
            "Requirement already satisfied: six>=1.5 in /usr/local/lib/python3.10/dist-packages (from python-dateutil>=2.1->jupyter-client->ipykernel>=4.5.1->ipywidgets) (1.16.0)\n",
            "Requirement already satisfied: argon2-cffi-bindings in /usr/local/lib/python3.10/dist-packages (from argon2-cffi->notebook>=4.4.1->widgetsnbextension~=3.6.0->ipywidgets) (21.2.0)\n",
            "Requirement already satisfied: attrs>=22.2.0 in /usr/local/lib/python3.10/dist-packages (from jsonschema>=2.6->nbformat->notebook>=4.4.1->widgetsnbextension~=3.6.0->ipywidgets) (23.2.0)\n",
            "Requirement already satisfied: jsonschema-specifications>=2023.03.6 in /usr/local/lib/python3.10/dist-packages (from jsonschema>=2.6->nbformat->notebook>=4.4.1->widgetsnbextension~=3.6.0->ipywidgets) (2023.12.1)\n",
            "Requirement already satisfied: referencing>=0.28.4 in /usr/local/lib/python3.10/dist-packages (from jsonschema>=2.6->nbformat->notebook>=4.4.1->widgetsnbextension~=3.6.0->ipywidgets) (0.35.1)\n",
            "Requirement already satisfied: rpds-py>=0.7.1 in /usr/local/lib/python3.10/dist-packages (from jsonschema>=2.6->nbformat->notebook>=4.4.1->widgetsnbextension~=3.6.0->ipywidgets) (0.18.1)\n",
            "Requirement already satisfied: anyio<4,>=3.1.0 in /usr/local/lib/python3.10/dist-packages (from jupyter-server>=1.8->nbclassic>=0.4.7->notebook>=4.4.1->widgetsnbextension~=3.6.0->ipywidgets) (3.7.1)\n",
            "Requirement already satisfied: websocket-client in /usr/local/lib/python3.10/dist-packages (from jupyter-server>=1.8->nbclassic>=0.4.7->notebook>=4.4.1->widgetsnbextension~=3.6.0->ipywidgets) (1.8.0)\n",
            "Requirement already satisfied: cffi>=1.0.1 in /usr/local/lib/python3.10/dist-packages (from argon2-cffi-bindings->argon2-cffi->notebook>=4.4.1->widgetsnbextension~=3.6.0->ipywidgets) (1.16.0)\n",
            "Requirement already satisfied: soupsieve>1.2 in /usr/local/lib/python3.10/dist-packages (from beautifulsoup4->nbconvert>=5->notebook>=4.4.1->widgetsnbextension~=3.6.0->ipywidgets) (2.5)\n",
            "Requirement already satisfied: webencodings in /usr/local/lib/python3.10/dist-packages (from bleach->nbconvert>=5->notebook>=4.4.1->widgetsnbextension~=3.6.0->ipywidgets) (0.5.1)\n",
            "Requirement already satisfied: idna>=2.8 in /usr/local/lib/python3.10/dist-packages (from anyio<4,>=3.1.0->jupyter-server>=1.8->nbclassic>=0.4.7->notebook>=4.4.1->widgetsnbextension~=3.6.0->ipywidgets) (3.7)\n",
            "Requirement already satisfied: sniffio>=1.1 in /usr/local/lib/python3.10/dist-packages (from anyio<4,>=3.1.0->jupyter-server>=1.8->nbclassic>=0.4.7->notebook>=4.4.1->widgetsnbextension~=3.6.0->ipywidgets) (1.3.1)\n",
            "Requirement already satisfied: exceptiongroup in /usr/local/lib/python3.10/dist-packages (from anyio<4,>=3.1.0->jupyter-server>=1.8->nbclassic>=0.4.7->notebook>=4.4.1->widgetsnbextension~=3.6.0->ipywidgets) (1.2.1)\n",
            "Requirement already satisfied: pycparser in /usr/local/lib/python3.10/dist-packages (from cffi>=1.0.1->argon2-cffi-bindings->argon2-cffi->notebook>=4.4.1->widgetsnbextension~=3.6.0->ipywidgets) (2.22)\n",
            "Installing collected packages: jedi\n",
            "Successfully installed jedi-0.19.1\n"
          ]
        }
      ]
    },
    {
      "cell_type": "code",
      "source": [
        "!pip install gensim"
      ],
      "metadata": {
        "colab": {
          "base_uri": "https://localhost:8080/"
        },
        "id": "-wH1ZgVhDyX9",
        "outputId": "5feeeeb8-90d2-4ac9-e43a-127d9c89b996"
      },
      "execution_count": null,
      "outputs": [
        {
          "output_type": "stream",
          "name": "stdout",
          "text": [
            "Requirement already satisfied: gensim in /usr/local/lib/python3.10/dist-packages (4.3.2)\n",
            "Requirement already satisfied: numpy>=1.18.5 in /usr/local/lib/python3.10/dist-packages (from gensim) (1.25.2)\n",
            "Requirement already satisfied: scipy>=1.7.0 in /usr/local/lib/python3.10/dist-packages (from gensim) (1.11.4)\n",
            "Requirement already satisfied: smart-open>=1.8.1 in /usr/local/lib/python3.10/dist-packages (from gensim) (6.4.0)\n"
          ]
        }
      ]
    },
    {
      "cell_type": "code",
      "source": [
        "import numpy as np\n",
        "import pandas as pd\n",
        "import torch\n",
        "from torch.utils.data import Dataset, DataLoader\n",
        "import torch.nn as nn\n",
        "import torch.optim as optim\n",
        "import torch.nn.functional as F\n",
        "from nltk.tokenize import word_tokenize\n",
        "from sklearn.metrics import accuracy_score, precision_score, recall_score, confusion_matrix\n",
        "import os\n",
        "import gensim.downloader as api\n",
        "from sklearn.model_selection import ParameterGrid\n",
        "from sklearn.model_selection import GridSearchCV\n",
        "from sklearn.base import BaseEstimator, ClassifierMixin"
      ],
      "metadata": {
        "id": "D2PF16bC9Xz0"
      },
      "execution_count": null,
      "outputs": []
    },
    {
      "cell_type": "code",
      "source": [
        "import matplotlib.pyplot as plt\n",
        "import ipywidgets as widgets\n",
        "from IPython.display import display\n",
        "import torch\n",
        "from nltk.tokenize import word_tokenize"
      ],
      "metadata": {
        "id": "qB1YMAwTgiI0"
      },
      "execution_count": null,
      "outputs": []
    },
    {
      "cell_type": "code",
      "source": [
        "import ipywidgets as widgets"
      ],
      "metadata": {
        "id": "weswB1ZkX4Z6"
      },
      "execution_count": null,
      "outputs": []
    },
    {
      "cell_type": "code",
      "source": [
        "model_dir = os.path.expanduser(\"~/.cache/gensim/word2vec-google-news-300\")\n",
        "\n",
        "\n",
        "if os.path.exists(model_dir):\n",
        "    print(\"Word2Vec is downloaded to local env\")\n",
        "else:\n",
        "    print(\"Word2Vec is not downloaded to local env, downloading...\")\n",
        "    word2vec_model = api.load('word2vec-google-news-300')\n",
        "    print(\"download complete\")\n",
        "\n",
        "\n",
        "word2vec_model = api.load('word2vec-google-news-300')\n",
        "print(\"Word2Vec model successfuly loaded\")\n",
        "\n",
        "\n",
        "print(f\"model contains {len(word2vec_model.key_to_index)} words\")"
      ],
      "metadata": {
        "colab": {
          "base_uri": "https://localhost:8080/"
        },
        "id": "1FQNVchFMi2F",
        "outputId": "9dcb6b9b-9d8d-4d08-9913-77b45f5888e3"
      },
      "execution_count": null,
      "outputs": [
        {
          "output_type": "stream",
          "name": "stdout",
          "text": [
            "Word2Vec is not downloaded to local env, downloading...\n",
            "[==================================================] 100.0% 1662.8/1662.8MB downloaded\n",
            "download complete\n",
            "Word2Vec model successfuly loaded\n",
            "model contains 3000000 words\n"
          ]
        }
      ]
    },
    {
      "cell_type": "markdown",
      "source": [
        "# **1.Dataset Processing**"
      ],
      "metadata": {
        "id": "J_J8w26bl4_H"
      }
    },
    {
      "cell_type": "code",
      "source": [
        "# Load data\n",
        "def load_data(file_path):\n",
        "    data = pd.read_json(file_path, lines=True)\n",
        "    data = pd.DataFrame(data['data'][0], columns=data['columns'][0])\n",
        "    return data\n",
        "\n",
        "# Build vocabulary and index mappings\n",
        "def build_vocab_and_mappings(data):\n",
        "    all_reviews = data['sentence'].tolist()\n",
        "    all_tokens = [token for review in all_reviews for token in word_tokenize(review)]\n",
        "    vocab = list(set(all_tokens))\n",
        "    word_to_idx = {word: idx for idx, word in enumerate(vocab)}\n",
        "    aspect_to_idx = {aspect: idx for idx, aspect in enumerate(set(data['aspect'].tolist()))}\n",
        "    sentiment_to_idx = {'positive': 0, 'negative': 1, 'neutral': 2}\n",
        "    return vocab, word_to_idx, aspect_to_idx, sentiment_to_idx\n"
      ],
      "metadata": {
        "id": "Ayd9u7oyBupy"
      },
      "execution_count": null,
      "outputs": []
    },
    {
      "cell_type": "code",
      "source": [
        "\n",
        "# Load Word2Vec embeddings\n",
        "def load_word2vec_embeddings(word2vec_model, word_to_idx, embedding_dim=300):\n",
        "    embeddings_index = {}\n",
        "    for word in word2vec_model.key_to_index:\n",
        "        embeddings_index[word] = word2vec_model[word]\n",
        "\n",
        "    embedding_matrix = np.zeros((len(word_to_idx), embedding_dim))\n",
        "    for word, idx in word_to_idx.items():\n",
        "        embedding_vector = embeddings_index.get(word)\n",
        "        if embedding_vector is not None:\n",
        "            embedding_matrix[idx] = embedding_vector\n",
        "    return embedding_matrix"
      ],
      "metadata": {
        "id": "mTBUWCQjBxUj"
      },
      "execution_count": null,
      "outputs": []
    },
    {
      "cell_type": "code",
      "source": [
        "# Load GloVe embeddings\n",
        "def load_glove_embeddings(glove_file_path, word_to_idx, embedding_dim=300):\n",
        "    embeddings_index = {}\n",
        "    with open(glove_file_path, 'r', encoding='utf-8') as f:\n",
        "        for line in f:\n",
        "            values = line.split()\n",
        "            word = values[0]\n",
        "            coefs = np.asarray(values[1:], dtype='float32')\n",
        "            embeddings_index[word] = coefs\n",
        "\n",
        "    embedding_matrix = np.zeros((len(word_to_idx), embedding_dim))\n",
        "    for word, idx in word_to_idx.items():\n",
        "        embedding_vector = embeddings_index.get(word)\n",
        "        if embedding_vector is not None:\n",
        "            embedding_matrix[idx] = embedding_vector\n",
        "    return embedding_matrix\n"
      ],
      "metadata": {
        "id": "CFKdKSaFByjp"
      },
      "execution_count": null,
      "outputs": []
    },
    {
      "cell_type": "code",
      "source": [
        "# Data preprocessing\n",
        "def preprocess_data(df, word_to_idx, aspect_to_idx, sentiment_to_idx):\n",
        "    reviews = [torch.tensor([word_to_idx.get(token, 0) for token in word_tokenize(review)], dtype=torch.long) for review in df['sentence']]\n",
        "    aspects = torch.tensor([aspect_to_idx[aspect] for aspect in df['aspect']], dtype=torch.long)\n",
        "    sentiments = torch.tensor([sentiment_to_idx[sentiment] for sentiment in df['polarity']], dtype=torch.long)\n",
        "    return reviews, aspects, sentiments\n",
        "\n",
        "# ABSA Dataset\n",
        "class ABSA_Dataset(Dataset):\n",
        "    def __init__(self, reviews, aspects, sentiments):\n",
        "        self.reviews = reviews\n",
        "        self.aspects = aspects\n",
        "        self.sentiments = sentiments\n",
        "\n",
        "    def __len__(self):\n",
        "        return len(self.reviews)\n",
        "\n",
        "    def __getitem__(self, idx):\n",
        "        return self.reviews[idx], self.aspects[idx], self.sentiments[idx]\n",
        "\n",
        "# Collate function\n",
        "def collate_fn(batch):\n",
        "    reviews, aspects, sentiments = zip(*batch)\n",
        "    reviews_padded = torch.nn.utils.rnn.pad_sequence(reviews, batch_first=True, padding_value=0)\n",
        "    aspects = torch.tensor(aspects)\n",
        "    sentiments = torch.tensor(sentiments)\n",
        "    return reviews_padded, aspects, sentiments"
      ],
      "metadata": {
        "id": "nB0b2_By9vZl"
      },
      "execution_count": null,
      "outputs": []
    },
    {
      "cell_type": "markdown",
      "source": [
        "## **Basic LSTM, with Glove and advanced**"
      ],
      "metadata": {
        "id": "flti4PNYkfid"
      }
    },
    {
      "cell_type": "code",
      "source": [
        "# LSTM BASIC\n",
        "class BasicLSTM(nn.Module):\n",
        "    def __init__(self, vocab_size, embedding_dim, hidden_dim, output_dim, aspect_dim, dropout=0.5,embedding_matrix = None):\n",
        "        super(BasicLSTM, self).__init__()\n",
        "        self.embedding = nn.Embedding(vocab_size, embedding_dim)\n",
        "        self.aspect_embedding = nn.Embedding(len(aspect_to_idx), aspect_dim)\n",
        "        self.lstm = nn.LSTM(embedding_dim + aspect_dim, hidden_dim, batch_first=True, bidirectional=True)\n",
        "        self.dropout = nn.Dropout(dropout)\n",
        "        self.fc = nn.Linear(hidden_dim * 2, output_dim)\n",
        "\n",
        "    def forward(self, reviews, aspects):\n",
        "        embedded_reviews = self.embedding(reviews)\n",
        "        embedded_aspects = self.aspect_embedding(aspects).unsqueeze(1).repeat(1, embedded_reviews.size(1), 1)\n",
        "        lstm_input = torch.cat((embedded_reviews, embedded_aspects), dim=2)\n",
        "        lstm_output, _ = self.lstm(lstm_input)\n",
        "        final_feature_map = self.dropout(lstm_output[:, -1, :])\n",
        "        output = self.fc(final_feature_map)\n",
        "        return output"
      ],
      "metadata": {
        "id": "E1P4KydikYQn"
      },
      "execution_count": null,
      "outputs": []
    },
    {
      "cell_type": "code",
      "source": [
        "# LSTM WITH GloVe only\n",
        "class GloVeLSTM(nn.Module):\n",
        "    def __init__(self, vocab_size, embedding_dim, hidden_dim, output_dim, aspect_dim, dropout=0.5, embedding_matrix=None):\n",
        "        super(GloVeLSTM, self).__init__()\n",
        "        self.embedding = nn.Embedding(vocab_size, embedding_dim)\n",
        "        if embedding_matrix is not None:\n",
        "            self.embedding.weight.data.copy_(torch.from_numpy(embedding_matrix))\n",
        "            self.embedding.weight.requires_grad = False\n",
        "        self.aspect_embedding = nn.Embedding(len(aspect_to_idx), aspect_dim)\n",
        "        self.lstm = nn.LSTM(embedding_dim + aspect_dim, hidden_dim, batch_first=True, bidirectional=True)\n",
        "        self.dropout = nn.Dropout(dropout)\n",
        "        self.fc = nn.Linear(hidden_dim * 2, output_dim)\n",
        "\n",
        "    def forward(self, reviews, aspects):\n",
        "        embedded_reviews = self.embedding(reviews)\n",
        "        embedded_aspects = self.aspect_embedding(aspects).unsqueeze(1).repeat(1, embedded_reviews.size(1), 1)\n",
        "        lstm_input = torch.cat((embedded_reviews, embedded_aspects), dim=2)\n",
        "        lstm_output, _ = self.lstm(lstm_input)\n",
        "        final_feature_map = self.dropout(lstm_output[:, -1, :])\n",
        "        output = self.fc(final_feature_map)\n",
        "        return output\n"
      ],
      "metadata": {
        "id": "XujLmt-AkYGX"
      },
      "execution_count": null,
      "outputs": []
    },
    {
      "cell_type": "code",
      "source": [
        "# LSTM with GloVe and advanced optimize\n",
        "class AdvancedGloVeLSTM(nn.Module):\n",
        "    def __init__(self, vocab_size, embedding_dim, hidden_dim, output_dim, aspect_dim, dropout=0.5, embedding_matrix=True):\n",
        "        super(AdvancedGloVeLSTM, self).__init__()\n",
        "        self.embedding = nn.Embedding(vocab_size, embedding_dim)\n",
        "        if embedding_matrix is not None:\n",
        "            self.embedding.weight.data.copy_(torch.from_numpy(embedding_matrix))\n",
        "            self.embedding.weight.requires_grad = True  # Allow training embeddings\n",
        "        self.aspect_embedding = nn.Embedding(len(aspect_to_idx), aspect_dim)\n",
        "        self.lstm = nn.LSTM(embedding_dim + aspect_dim, hidden_dim, batch_first=True, bidirectional=True)\n",
        "        self.dropout = nn.Dropout(dropout)\n",
        "        self.fc = nn.Linear(hidden_dim * 2, output_dim)\n",
        "\n",
        "    def forward(self, reviews, aspects):\n",
        "        embedded_reviews = self.embedding(reviews)\n",
        "        embedded_aspects = self.aspect_embedding(aspects).unsqueeze(1).repeat(1, embedded_reviews.size(1), 1)\n",
        "        lstm_input = torch.cat((embedded_reviews, embedded_aspects), dim=2)\n",
        "        lstm_output, _ = self.lstm(lstm_input)\n",
        "        final_feature_map = self.dropout(lstm_output[:, -1, :])\n",
        "        output = self.fc(final_feature_map)\n",
        "        return output\n"
      ],
      "metadata": {
        "id": "UI3HoMwhkYAa"
      },
      "execution_count": null,
      "outputs": []
    },
    {
      "cell_type": "code",
      "source": [
        "# Training function with early stopping, learning rate scheduler, and gradient clipping\n",
        "def train_model(model, train_loader, val_loader, epochs, learning_rate, patience, weight_decay, clip_value):\n",
        "    criterion = nn.CrossEntropyLoss()\n",
        "    optimizer = optim.AdamW(model.parameters(), lr=learning_rate, weight_decay=weight_decay)\n",
        "    scheduler = optim.lr_scheduler.ReduceLROnPlateau(optimizer, 'min', patience=2, factor=0.5, verbose=True)\n",
        "    best_val_loss = float('inf')\n",
        "    patience_counter = 0\n",
        "\n",
        "    for epoch in range(epochs):\n",
        "        model.train()\n",
        "        total_loss = 0\n",
        "        for reviews, aspects, sentiments in train_loader:\n",
        "            optimizer.zero_grad()\n",
        "            outputs = model(reviews, aspects)\n",
        "            loss = criterion(outputs, sentiments)\n",
        "            loss.backward()\n",
        "            torch.nn.utils.clip_grad_norm_(model.parameters(), clip_value)\n",
        "            optimizer.step()\n",
        "            total_loss += loss.item()\n",
        "\n",
        "        # Evaluate on validation set\n",
        "        model.eval()\n",
        "        val_loss = 0\n",
        "        with torch.no_grad():\n",
        "            for reviews, aspects, sentiments in val_loader:\n",
        "                outputs = model(reviews, aspects)\n",
        "                loss = criterion(outputs, sentiments)\n",
        "                val_loss += loss.item()\n",
        "\n",
        "        val_loss /= len(val_loader)\n",
        "        scheduler.step(val_loss)\n",
        "        print(f'Epoch {epoch+1}, Training Loss: {total_loss / len(train_loader)}, Validation Loss: {val_loss}')\n",
        "\n",
        "        # Early stopping logic\n",
        "        if val_loss < best_val_loss:\n",
        "            best_val_loss = val_loss\n",
        "            patience_counter = 0\n",
        "        else:\n",
        "            patience_counter += 1\n",
        "            if patience_counter >= patience:\n",
        "                print(\"Early stopping triggered\")\n",
        "                break"
      ],
      "metadata": {
        "id": "yfhjrrm7kX4V"
      },
      "execution_count": null,
      "outputs": []
    },
    {
      "cell_type": "markdown",
      "source": [],
      "metadata": {
        "id": "F66UIbzlYpLe"
      }
    },
    {
      "cell_type": "code",
      "source": [
        "if __name__ == \"__main__\":\n",
        "    # Load and preprocess data\n",
        "    train_data = load_data('train.json')\n",
        "    val_data = load_data('val.json')\n",
        "    test_data = load_data('test.json')\n",
        "\n",
        "    vocab, word_to_idx, aspect_to_idx, sentiment_to_idx = build_vocab_and_mappings(pd.concat([train_data, val_data, test_data]))\n",
        "\n",
        "    train_reviews, train_aspects, train_sentiments = preprocess_data(train_data, word_to_idx, aspect_to_idx, sentiment_to_idx)\n",
        "    val_reviews, val_aspects, val_sentiments = preprocess_data(val_data, word_to_idx, aspect_to_idx, sentiment_to_idx)\n",
        "    test_reviews, test_aspects, test_sentiments = preprocess_data(test_data, word_to_idx, aspect_to_idx, sentiment_to_idx)\n",
        "\n",
        "    # Load GloVe embeddings\n",
        "    embedding_matrix = load_glove_embeddings('glove.6B.300d.txt', word_to_idx) if use_glove else None\n",
        "\n",
        "    # Initialize datasets and data loaders\n",
        "    train_dataset = ABSA_Dataset(train_reviews, train_aspects, train_sentiments)\n",
        "    val_dataset = ABSA_Dataset(val_reviews, val_aspects, val_sentiments)\n",
        "    test_dataset = ABSA_Dataset(test_reviews, test_aspects, test_sentiments)\n",
        "\n",
        "    train_loader = DataLoader(train_dataset, batch_size=32, shuffle=True, collate_fn=collate_fn)\n",
        "    val_loader = DataLoader(val_dataset, batch_size=32, shuffle=False, collate_fn=collate_fn)\n",
        "    test_loader = DataLoader(test_dataset, batch_size=32, shuffle=False, collate_fn=collate_fn)\n",
        "\n",
        "    # Define and train models for each stage\n",
        "    for stage, ModelClass in zip([\"Basic\", \"GloVe\", \"AdvancedGloVe\"], [BasicLSTM, GloVeLSTM, AdvancedGloVeLSTM]):\n",
        "        print(f\"Training {stage} Model\")\n",
        "        model = ModelClass(len(vocab), 300, 128, 3, len(aspect_to_idx), embedding_matrix=embedding_matrix)\n",
        "        train_model(model, train_loader, val_loader, epochs=10, learning_rate=0.001, patience=3, weight_decay=1e-5, clip_value=1.0)\n",
        "\n",
        "        val_accuracy, val_precision, val_recall, val_cm = evaluate_model_performance(model, val_loader)\n",
        "        print(f'{stage} Model Validation Accuracy: {val_accuracy}')\n",
        "        print(f'{stage} Model Validation Precision: {val_precision}')\n",
        "        print(f'{stage} Model Validation Recall: {val_recall}')\n",
        "        print(f'{stage} Model Validation Confusion Matrix:\\n{val_cm}')\n",
        "\n",
        "        test_accuracy, test_precision, test_recall, test_cm = evaluate_model_performance(model, test_loader)\n",
        "        print(f'{stage} Model Test Accuracy: {test_accuracy}')\n",
        "        print(f'{stage} Model Test Precision: {test_precision}')\n",
        "        print(f'{stage} Model Test Recall: {test_recall}')\n",
        "        print(f'{stage} Model Test Confusion Matrix:\\n{test_cm}')\n"
      ],
      "metadata": {
        "id": "TVww7nwokXsq"
      },
      "execution_count": null,
      "outputs": []
    },
    {
      "cell_type": "markdown",
      "source": [
        "# **2.Model Implementation**"
      ],
      "metadata": {
        "id": "zVc-GwMpYuKo"
      }
    },
    {
      "cell_type": "markdown",
      "source": [
        "# **LSTM with GloVe and Grid_Search for optimal parameter set**"
      ],
      "metadata": {
        "id": "4iNVBMLwk_sj"
      }
    },
    {
      "cell_type": "code",
      "source": [
        "class LSTMModel(nn.Module):\n",
        "    def __init__(self, vocab_size, embedding_dim, hidden_dim, output_dim, aspect_dim, use_attention=False,return_attention = False, dropout=0.5, embedding_matrix=None):\n",
        "        super(LSTMModel, self).__init__()\n",
        "        self.use_attention = use_attention\n",
        "        self.embedding = nn.Embedding(vocab_size, embedding_dim)\n",
        "        self.return_attention = return_attention\n",
        "        if embedding_matrix is not None:\n",
        "            self.embedding.weight.data.copy_(torch.from_numpy(embedding_matrix))\n",
        "            self.embedding.weight.requires_grad = False\n",
        "        self.aspect_embedding = nn.Embedding(len(aspect_to_idx), aspect_dim)\n",
        "        self.lstm = nn.LSTM(embedding_dim + aspect_dim, hidden_dim, batch_first=True, bidirectional=True)\n",
        "        self.dropout = nn.Dropout(dropout)\n",
        "        self.fc = nn.Linear(hidden_dim * 2, output_dim)\n",
        "        if use_attention:\n",
        "            self.attention = nn.Linear(hidden_dim * 2 + aspect_dim, 1)\n",
        "\n",
        "    def forward(self, reviews, aspects):\n",
        "        embedded_reviews = self.embedding(reviews)\n",
        "        embedded_aspects = self.aspect_embedding(aspects).unsqueeze(1).repeat(1, embedded_reviews.size(1), 1)\n",
        "        lstm_input = torch.cat((embedded_reviews, embedded_aspects), dim=2)\n",
        "        lstm_output, _ = self.lstm(lstm_input)\n",
        "        if self.use_attention:\n",
        "            attn_input = torch.cat((lstm_output, embedded_aspects), dim=2)\n",
        "            attn_weights = F.softmax(self.attention(attn_input), dim=1)\n",
        "            attn_applied = torch.bmm(attn_weights.transpose(1, 2), lstm_output)\n",
        "            final_feature_map = self.dropout(attn_applied.squeeze(1))\n",
        "        else:\n",
        "            final_feature_map = self.dropout(lstm_output[:, -1, :])\n",
        "\n",
        "        output = self.fc(final_feature_map)\n",
        "\n",
        "        if self.use_attention and self.return_attention:\n",
        "            return output, attn_weights\n",
        "        return output"
      ],
      "metadata": {
        "id": "rbpfIYaecf05"
      },
      "execution_count": null,
      "outputs": []
    },
    {
      "cell_type": "code",
      "source": [
        "# Modify the train_model function to accept parameters\n",
        "def train_model(model, train_loader, val_loader, epochs, learning_rate, patience, weight_decay, clip_value):\n",
        "    criterion = nn.CrossEntropyLoss()\n",
        "    optimizer = optim.AdamW(model.parameters(), lr=learning_rate, weight_decay=weight_decay)\n",
        "    scheduler = optim.lr_scheduler.ReduceLROnPlateau(optimizer, 'min', patience=2, factor=0.5)\n",
        "    best_val_loss = float('inf')\n",
        "\n",
        "    for epoch in range(epochs):\n",
        "        model.train()\n",
        "        total_loss = 0\n",
        "        for reviews, aspects, sentiments in train_loader:\n",
        "            optimizer.zero_grad()\n",
        "            outputs = model(reviews, aspects)\n",
        "            loss = criterion(outputs, sentiments)\n",
        "            loss.backward()\n",
        "            nn.utils.clip_grad_norm_(model.parameters(), clip_value)\n",
        "            optimizer.step()\n",
        "            total_loss += loss.item()\n",
        "\n",
        "        val_loss = evaluate_model(model, val_loader)\n",
        "        scheduler.step(val_loss)\n",
        "\n",
        "        if val_loss < best_val_loss:\n",
        "            best_val_loss = val_loss"
      ],
      "metadata": {
        "id": "68o5yz6bcku5"
      },
      "execution_count": null,
      "outputs": []
    },
    {
      "cell_type": "code",
      "source": [
        "# Using sklearn's GridSearchCV to automate the hyperparameter tuning\n",
        "def perform_grid_search(train_loader, val_loader, vocab_size, aspect_dim, embedding_matrix):\n",
        "    param_grid = {\n",
        "        'hidden_dim': [64, 128],\n",
        "        'dropout': [0.5, 0.7],\n",
        "        'learning_rate': [0.001, 0.01],\n",
        "        'weight_decay': [1e-4, 1e-5]\n",
        "    }\n",
        "    best_score = 0\n",
        "    best_params = None\n",
        "\n",
        "    for params in ParameterGrid(param_grid):\n",
        "        model = LSTMModel(vocab_size, 300, params['hidden_dim'], 3, aspect_dim, use_attention=True, dropout=params['dropout'], embedding_matrix=embedding_matrix)\n",
        "        train_model(model, train_loader, val_loader, 10, params['learning_rate'], 3, params['weight_decay'], 1.0)\n",
        "        val_accuracy, _, _, _ = evaluate_model_performance(model, val_loader)\n",
        "        if val_accuracy > best_score:\n",
        "            best_score = val_accuracy\n",
        "            best_params = params\n",
        "\n",
        "    return best_params, best_score\n",
        "\n"
      ],
      "metadata": {
        "id": "ujG3CCqzdJae"
      },
      "execution_count": null,
      "outputs": []
    },
    {
      "cell_type": "markdown",
      "source": [
        "load glove.6B.300d.txt"
      ],
      "metadata": {
        "id": "T7hUNS1LlOV5"
      }
    },
    {
      "cell_type": "code",
      "source": [
        "cd .."
      ],
      "metadata": {
        "colab": {
          "base_uri": "https://localhost:8080/"
        },
        "id": "qlnSdmsgfx80",
        "outputId": "bc98dc85-e454-4d11-8fbf-75d90f36dcd9"
      },
      "execution_count": null,
      "outputs": [
        {
          "output_type": "stream",
          "name": "stdout",
          "text": [
            "/content/drive/MyDrive\n"
          ]
        }
      ]
    },
    {
      "cell_type": "code",
      "source": [
        "cd .."
      ],
      "metadata": {
        "colab": {
          "base_uri": "https://localhost:8080/"
        },
        "id": "hvcoHZbnf1ob",
        "outputId": "24a231ae-7680-4247-c74f-5ba1e5086112"
      },
      "execution_count": null,
      "outputs": [
        {
          "output_type": "stream",
          "name": "stdout",
          "text": [
            "/content/drive\n"
          ]
        }
      ]
    },
    {
      "cell_type": "code",
      "source": [
        "cd .."
      ],
      "metadata": {
        "colab": {
          "base_uri": "https://localhost:8080/"
        },
        "id": "RkGvUnjgf4rK",
        "outputId": "e70f712e-ca76-421d-a005-7b77f85425e6"
      },
      "execution_count": null,
      "outputs": [
        {
          "output_type": "stream",
          "name": "stdout",
          "text": [
            "/content\n"
          ]
        }
      ]
    },
    {
      "cell_type": "code",
      "source": [
        "!unzip \"/content/drive/MyDrive/glove.6B.300d.zip\" -d \"/content\""
      ],
      "metadata": {
        "colab": {
          "base_uri": "https://localhost:8080/"
        },
        "id": "_HksH52If7LM",
        "outputId": "1f143f97-d6cd-4ddc-ce5c-a381ea6abbe0"
      },
      "execution_count": null,
      "outputs": [
        {
          "output_type": "stream",
          "name": "stdout",
          "text": [
            "Archive:  /content/drive/MyDrive/glove.6B.300d.zip\n",
            "  inflating: /content/glove.6B.300d.txt  \n"
          ]
        }
      ]
    },
    {
      "cell_type": "code",
      "source": [
        "if __name__ == \"__main__\":\n",
        "    # Load and preprocess data\n",
        "    train_data = load_data('train.json')\n",
        "    val_data = load_data('val.json')\n",
        "    test_data = load_data('test.json')\n",
        "\n",
        "    vocab, word_to_idx, aspect_to_idx, sentiment_to_idx = build_vocab_and_mappings(pd.concat([train_data, val_data, test_data]))\n",
        "\n",
        "    train_reviews, train_aspects, train_sentiments = preprocess_data(train_data, word_to_idx, aspect_to_idx, sentiment_to_idx)\n",
        "    val_reviews, val_aspects, val_sentiments = preprocess_data(val_data, word_to_idx, aspect_to_idx, sentiment_to_idx)\n",
        "    test_reviews, test_aspects, test_sentiments = preprocess_data(test_data, word_to_idx, aspect_to_idx, sentiment_to_idx)\n",
        "\n",
        "    # Load GloVe embeddings if desired\n",
        "    embedding_matrix = load_glove_embeddings('glove.6B.300d.txt', word_to_idx)\n",
        "\n",
        "    # Initialize datasets and data loaders\n",
        "    train_dataset = ABSA_Dataset(train_reviews, train_aspects, train_sentiments)\n",
        "    val_dataset = ABSA_Dataset(val_reviews, val_aspects, val_sentiments)\n",
        "    test_dataset = ABSA_Dataset(test_reviews, test_aspects, test_sentiments)\n",
        "    train_loader = DataLoader(train_dataset, batch_size=32, shuffle=True, collate_fn=collate_fn)\n",
        "    val_loader = DataLoader(val_dataset, batch_size=32, shuffle=False, collate_fn=collate_fn)\n",
        "    test_loader = DataLoader(test_dataset, batch_size=32, shuffle=False, collate_fn=collate_fn)\n",
        "\n",
        "    # Perform grid search\n",
        "    best_params, best_score = perform_grid_search(train_loader, val_loader, len(vocab), len(aspect_to_idx), embedding_matrix)\n",
        "    print(f\"Best Parameters: {best_params}\")\n",
        "    print(f\"Best Validation Score: {best_score}\")\n",
        "\n",
        "    # Train final model with best parameters\n",
        "    final_model_GloVe = LSTMModel(\n",
        "        len(vocab),\n",
        "        300,  # Assuming embedding_dim is 300\n",
        "        best_params['hidden_dim'],\n",
        "        3,  # Assuming output_dim is 3 (e.g., positive, negative, neutral)\n",
        "        len(aspect_to_idx),\n",
        "        use_attention=True,  # Assuming we always use attention\n",
        "        dropout=best_params['dropout'],\n",
        "        embedding_matrix=embedding_matrix\n",
        "    )\n",
        "\n",
        "    # Train the model\n",
        "    train_model(final_model_GloVe, train_loader, val_loader, epochs=10,\n",
        "                learning_rate=best_params['learning_rate'],\n",
        "                patience=5,  # Adjust according to your setup\n",
        "                weight_decay=best_params['weight_decay'])\n",
        "\n",
        "    # Evaluate and save the model\n",
        "    val_accuracy, val_precision, val_recall, val_cm = evaluate_model_performance(final_model_GloVe, val_loader)\n",
        "    print(f'Validation Accuracy: {val_accuracy}')\n",
        "    print(f'Validation Precision: {val_precision}')\n",
        "    print(f'Validation Recall: {val_recall}')\n",
        "    print(f'Validation Confusion Matrix:\\n{val_cm}')\n",
        "\n",
        "    # Save the trained model\n",
        "    torch.save(final_model_GloVe.state_dict(), 'path_to_final_model_GloVe.pth')\n",
        "    print(\"Model saved successfully!\")"
      ],
      "metadata": {
        "colab": {
          "base_uri": "https://localhost:8080/"
        },
        "id": "8Fs1KXqydL_-",
        "outputId": "c8b26fbb-8412-46e2-cf42-9e257a04f7f0"
      },
      "execution_count": null,
      "outputs": [
        {
          "output_type": "stream",
          "name": "stdout",
          "text": [
            "Epoch 1, Training Loss: 1.0988551496385455, Validation Loss: 1.0856695132596152\n",
            "Epoch 2, Training Loss: 1.0875755859924867, Validation Loss: 1.0754969588347845\n",
            "Epoch 3, Training Loss: 1.07766602195061, Validation Loss: 1.0667213797569275\n",
            "Epoch 4, Training Loss: 1.0697467160654497, Validation Loss: 1.0590374725205558\n",
            "Epoch 5, Training Loss: 1.0624679308216851, Validation Loss: 1.0519102684089117\n",
            "Epoch 6, Training Loss: 1.0570559039846197, Validation Loss: 1.0453973455088479\n",
            "Epoch 7, Training Loss: 1.049886636905842, Validation Loss: 1.0391520261764526\n",
            "Epoch 8, Training Loss: 1.0454610916408333, Validation Loss: 1.0332612948758262\n",
            "Epoch 9, Training Loss: 1.0397945041055079, Validation Loss: 1.0276082711560386\n",
            "Epoch 10, Training Loss: 1.0333872316656887, Validation Loss: 1.0220979835305894\n"
          ]
        },
        {
          "output_type": "stream",
          "name": "stderr",
          "text": [
            "/usr/local/lib/python3.10/dist-packages/sklearn/metrics/_classification.py:1344: UndefinedMetricWarning: Precision is ill-defined and being set to 0.0 in labels with no predicted samples. Use `zero_division` parameter to control this behavior.\n",
            "  _warn_prf(average, modifier, msg_start, len(result))\n"
          ]
        },
        {
          "output_type": "stream",
          "name": "stdout",
          "text": [
            "Epoch 1, Training Loss: 1.0896768467920321, Validation Loss: 1.0799452917916434\n",
            "Epoch 2, Training Loss: 1.0823657947617609, Validation Loss: 1.073601735489709\n",
            "Epoch 3, Training Loss: 1.0777501372603682, Validation Loss: 1.068947617496763\n",
            "Epoch 4, Training Loss: 1.073666311062134, Validation Loss: 1.0652854655470168\n",
            "Epoch 5, Training Loss: 1.0705420541333723, Validation Loss: 1.0620635151863098\n",
            "Epoch 6, Training Loss: 1.0684200122549727, Validation Loss: 1.0590717153889793\n",
            "Epoch 7, Training Loss: 1.0641096661219727, Validation Loss: 1.0562647836548942\n",
            "Epoch 8, Training Loss: 1.0626626406703983, Validation Loss: 1.0535263887473516\n",
            "Epoch 9, Training Loss: 1.0599270288471703, Validation Loss: 1.0508714744022913\n",
            "Epoch 10, Training Loss: 1.0586159538041364, Validation Loss: 1.0481854464326585\n"
          ]
        },
        {
          "output_type": "stream",
          "name": "stderr",
          "text": [
            "/usr/local/lib/python3.10/dist-packages/sklearn/metrics/_classification.py:1344: UndefinedMetricWarning: Precision is ill-defined and being set to 0.0 in labels with no predicted samples. Use `zero_division` parameter to control this behavior.\n",
            "  _warn_prf(average, modifier, msg_start, len(result))\n"
          ]
        },
        {
          "output_type": "stream",
          "name": "stdout",
          "text": [
            "Epoch 1, Training Loss: 1.0647073976091437, Validation Loss: 1.032025865146092\n",
            "Epoch 2, Training Loss: 1.0208960280225083, Validation Loss: 0.9954320809670857\n",
            "Epoch 3, Training Loss: 0.9955533869094677, Validation Loss: 0.9708382487297058\n",
            "Epoch 4, Training Loss: 0.9781076698689848, Validation Loss: 0.9538076434816632\n",
            "Epoch 5, Training Loss: 0.9629464944203695, Validation Loss: 0.9403399718659264\n",
            "Epoch 6, Training Loss: 0.955417370205527, Validation Loss: 0.9318751714059285\n",
            "Epoch 7, Training Loss: 0.9496807053282454, Validation Loss: 0.9262628363711494\n",
            "Epoch 8, Training Loss: 0.9441053029653188, Validation Loss: 0.9206281027623585\n",
            "Epoch 9, Training Loss: 0.9380247163343, Validation Loss: 0.9181205758026668\n",
            "Epoch 10, Training Loss: 0.9352446354187287, Validation Loss: 0.9140524502311435\n",
            "Epoch 1, Training Loss: 1.045704449619259, Validation Loss: 0.9968132653406688\n",
            "Epoch 2, Training Loss: 0.9897146751214793, Validation Loss: 0.9557842995439257\n",
            "Epoch 3, Training Loss: 0.9665783031566723, Validation Loss: 0.9359249281031745\n",
            "Epoch 4, Training Loss: 0.9553283917474317, Validation Loss: 0.9238291680812836\n",
            "Epoch 5, Training Loss: 0.9478749404619405, Validation Loss: 0.9164656613554273\n",
            "Epoch 6, Training Loss: 0.9419507419203853, Validation Loss: 0.9116452272449221\n",
            "Epoch 7, Training Loss: 0.9355508518648578, Validation Loss: 0.9083812470946994\n",
            "Epoch 8, Training Loss: 0.9314817053240698, Validation Loss: 0.90570082621915\n",
            "Epoch 9, Training Loss: 0.9300388266911378, Validation Loss: 0.903536108987672\n",
            "Epoch 10, Training Loss: 0.9252563637119156, Validation Loss: 0.9020866240773883\n",
            "Epoch 1, Training Loss: 1.0943721747613169, Validation Loss: 1.0844107568264008\n",
            "Epoch 2, Training Loss: 1.0770058556719944, Validation Loss: 1.0688041704041618\n",
            "Epoch 3, Training Loss: 1.0639771061974603, Validation Loss: 1.0564035475254059\n",
            "Epoch 4, Training Loss: 1.0528439576024409, Validation Loss: 1.0458023846149445\n",
            "Epoch 5, Training Loss: 1.0432526906868358, Validation Loss: 1.036460354924202\n",
            "Epoch 6, Training Loss: 1.03480665211205, Validation Loss: 1.027804704649108\n",
            "Epoch 7, Training Loss: 1.0261870453486572, Validation Loss: 1.0197166970797948\n",
            "Epoch 8, Training Loss: 1.019345767863162, Validation Loss: 1.012123322912625\n",
            "Epoch 9, Training Loss: 1.0136595083786561, Validation Loss: 1.0048427964959825\n",
            "Epoch 10, Training Loss: 1.0063292043166117, Validation Loss: 0.9978637056691306\n"
          ]
        },
        {
          "output_type": "stream",
          "name": "stderr",
          "text": [
            "/usr/local/lib/python3.10/dist-packages/sklearn/metrics/_classification.py:1344: UndefinedMetricWarning: Precision is ill-defined and being set to 0.0 in labels with no predicted samples. Use `zero_division` parameter to control this behavior.\n",
            "  _warn_prf(average, modifier, msg_start, len(result))\n"
          ]
        },
        {
          "output_type": "stream",
          "name": "stdout",
          "text": [
            "Epoch 1, Training Loss: 1.0797797044118245, Validation Loss: 1.073936104774475\n",
            "Epoch 2, Training Loss: 1.0692264757177852, Validation Loss: 1.0630508320672172\n",
            "Epoch 3, Training Loss: 1.0612543802540582, Validation Loss: 1.053733961922782\n",
            "Epoch 4, Training Loss: 1.0538815380753697, Validation Loss: 1.0452435612678528\n",
            "Epoch 5, Training Loss: 1.0455437334808144, Validation Loss: 1.0373016425541468\n",
            "Epoch 6, Training Loss: 1.0397904472308115, Validation Loss: 1.0297047282968248\n",
            "Epoch 7, Training Loss: 1.032935021696864, Validation Loss: 1.0224569950784956\n",
            "Epoch 8, Training Loss: 1.0246797332892548, Validation Loss: 1.0153181850910187\n",
            "Epoch 9, Training Loss: 1.018505035488455, Validation Loss: 1.0084360433476312\n",
            "Epoch 10, Training Loss: 1.0128745707842681, Validation Loss: 1.0016932785511017\n"
          ]
        },
        {
          "output_type": "stream",
          "name": "stderr",
          "text": [
            "/usr/local/lib/python3.10/dist-packages/sklearn/metrics/_classification.py:1344: UndefinedMetricWarning: Precision is ill-defined and being set to 0.0 in labels with no predicted samples. Use `zero_division` parameter to control this behavior.\n",
            "  _warn_prf(average, modifier, msg_start, len(result))\n"
          ]
        },
        {
          "output_type": "stream",
          "name": "stdout",
          "text": [
            "Epoch 1, Training Loss: 1.0484592536011257, Validation Loss: 1.0111071999583925\n",
            "Epoch 2, Training Loss: 0.9942904192585129, Validation Loss: 0.9659185622419629\n",
            "Epoch 3, Training Loss: 0.9641426514397871, Validation Loss: 0.9418045324938638\n",
            "Epoch 4, Training Loss: 0.950458637765936, Validation Loss: 0.930301200066294\n",
            "Epoch 5, Training Loss: 0.9432023398511045, Validation Loss: 0.9235838417496\n",
            "Epoch 6, Training Loss: 0.9375115412849564, Validation Loss: 0.9173138844115394\n",
            "Epoch 7, Training Loss: 0.9354893981336473, Validation Loss: 0.9134509457009179\n",
            "Epoch 8, Training Loss: 0.9325645912337948, Validation Loss: 0.9110856865133558\n",
            "Epoch 9, Training Loss: 0.9297208034240447, Validation Loss: 0.9082958059651511\n",
            "Epoch 10, Training Loss: 0.9264369223031912, Validation Loss: 0.9054903898920331\n"
          ]
        },
        {
          "output_type": "stream",
          "name": "stderr",
          "text": [
            "/usr/local/lib/python3.10/dist-packages/sklearn/metrics/_classification.py:1344: UndefinedMetricWarning: Precision is ill-defined and being set to 0.0 in labels with no predicted samples. Use `zero_division` parameter to control this behavior.\n",
            "  _warn_prf(average, modifier, msg_start, len(result))\n"
          ]
        },
        {
          "output_type": "stream",
          "name": "stdout",
          "text": [
            "Epoch 1, Training Loss: 1.0551415211982555, Validation Loss: 1.02139578972544\n",
            "Epoch 2, Training Loss: 1.0075302822095853, Validation Loss: 0.9774589261838368\n",
            "Epoch 3, Training Loss: 0.9745207828981383, Validation Loss: 0.9480061594929013\n",
            "Epoch 4, Training Loss: 0.9551059697662387, Validation Loss: 0.9312806065593447\n",
            "Epoch 5, Training Loss: 0.9478453024550602, Validation Loss: 0.9226797286953244\n",
            "Epoch 6, Training Loss: 0.9415699756360268, Validation Loss: 0.9173632924045835\n",
            "Epoch 7, Training Loss: 0.9382051632211015, Validation Loss: 0.9131746483700616\n",
            "Epoch 8, Training Loss: 0.9328537484010061, Validation Loss: 0.9103063515254429\n",
            "Epoch 9, Training Loss: 0.931975669957496, Validation Loss: 0.9076674090964454\n",
            "Epoch 10, Training Loss: 0.9296591826924333, Validation Loss: 0.9055243900844029\n",
            "Epoch 1, Training Loss: 1.1023750417941325, Validation Loss: 1.0927932177271162\n",
            "Epoch 2, Training Loss: 1.09200335515512, Validation Loss: 1.0860148753438676\n",
            "Epoch 3, Training Loss: 1.088055094620129, Validation Loss: 1.0812338420322962\n",
            "Epoch 4, Training Loss: 1.0837627574130222, Validation Loss: 1.0777039996215276\n",
            "Epoch 5, Training Loss: 1.0811435886331506, Validation Loss: 1.074957664523806\n",
            "Epoch 6, Training Loss: 1.078004078016625, Validation Loss: 1.072627957378115\n",
            "Epoch 7, Training Loss: 1.0753696375602, Validation Loss: 1.0706167476517814\n",
            "Epoch 8, Training Loss: 1.0746146813706234, Validation Loss: 1.0688377235616957\n",
            "Epoch 9, Training Loss: 1.071241398920884, Validation Loss: 1.06714471748897\n",
            "Epoch 10, Training Loss: 1.0717400986332077, Validation Loss: 1.0654730669089727\n"
          ]
        },
        {
          "output_type": "stream",
          "name": "stderr",
          "text": [
            "/usr/local/lib/python3.10/dist-packages/sklearn/metrics/_classification.py:1344: UndefinedMetricWarning: Precision is ill-defined and being set to 0.0 in labels with no predicted samples. Use `zero_division` parameter to control this behavior.\n",
            "  _warn_prf(average, modifier, msg_start, len(result))\n"
          ]
        },
        {
          "output_type": "stream",
          "name": "stdout",
          "text": [
            "Epoch 1, Training Loss: 1.1163841743726988, Validation Loss: 1.1030048089368003\n",
            "Epoch 2, Training Loss: 1.0983900701677478, Validation Loss: 1.088604177747454\n",
            "Epoch 3, Training Loss: 1.0885321062964362, Validation Loss: 1.0773470912660872\n",
            "Epoch 4, Training Loss: 1.0785074481019028, Validation Loss: 1.0682763797896249\n",
            "Epoch 5, Training Loss: 1.0698585566636678, Validation Loss: 1.0602959096431732\n",
            "Epoch 6, Training Loss: 1.0650041398701366, Validation Loss: 1.0533740988799505\n",
            "Epoch 7, Training Loss: 1.0567462812135886, Validation Loss: 1.047065304858344\n",
            "Epoch 8, Training Loss: 1.052214802116961, Validation Loss: 1.0411902942827769\n",
            "Epoch 9, Training Loss: 1.0465459914894792, Validation Loss: 1.0355515352317266\n",
            "Epoch 10, Training Loss: 1.0451251587889216, Validation Loss: 1.0303494312933512\n"
          ]
        },
        {
          "output_type": "stream",
          "name": "stderr",
          "text": [
            "/usr/local/lib/python3.10/dist-packages/sklearn/metrics/_classification.py:1344: UndefinedMetricWarning: Precision is ill-defined and being set to 0.0 in labels with no predicted samples. Use `zero_division` parameter to control this behavior.\n",
            "  _warn_prf(average, modifier, msg_start, len(result))\n"
          ]
        },
        {
          "output_type": "stream",
          "name": "stdout",
          "text": [
            "Epoch 1, Training Loss: 1.037540697031193, Validation Loss: 0.9843074487788337\n",
            "Epoch 2, Training Loss: 0.9830419158076381, Validation Loss: 0.939133597271783\n",
            "Epoch 3, Training Loss: 0.954351055997986, Validation Loss: 0.919145154101508\n",
            "Epoch 4, Training Loss: 0.9471228192518423, Validation Loss: 0.9112492480448314\n",
            "Epoch 5, Training Loss: 0.9407390348009161, Validation Loss: 0.9070268848112651\n",
            "Epoch 6, Training Loss: 0.9375436120742077, Validation Loss: 0.9046697531427655\n",
            "Epoch 7, Training Loss: 0.9298277835588198, Validation Loss: 0.9028164318629673\n",
            "Epoch 8, Training Loss: 0.934819180954684, Validation Loss: 0.9018261496509824\n",
            "Epoch 9, Training Loss: 0.9301171547120756, Validation Loss: 0.9009361820561546\n",
            "Epoch 10, Training Loss: 0.9301081493094161, Validation Loss: 0.9005579948425293\n",
            "Epoch 1, Training Loss: 1.0575917478617247, Validation Loss: 1.0258926153182983\n",
            "Epoch 2, Training Loss: 1.019926073851886, Validation Loss: 0.9904054914202008\n",
            "Epoch 3, Training Loss: 0.9948280593296429, Validation Loss: 0.9675493495804923\n",
            "Epoch 4, Training Loss: 0.9766008716982764, Validation Loss: 0.9518549612590245\n",
            "Epoch 5, Training Loss: 0.9635795376322291, Validation Loss: 0.9391124716826847\n",
            "Epoch 6, Training Loss: 0.9556621452709576, Validation Loss: 0.9318448241267886\n",
            "Epoch 7, Training Loss: 0.9467065997488864, Validation Loss: 0.9264103536094938\n",
            "Epoch 8, Training Loss: 0.9471158167800388, Validation Loss: 0.9221564914499011\n",
            "Epoch 9, Training Loss: 0.9400463794265781, Validation Loss: 0.9197045628513608\n",
            "Epoch 10, Training Loss: 0.9371142929738706, Validation Loss: 0.9193481313330787\n",
            "Epoch 1, Training Loss: 1.088803113580824, Validation Loss: 1.0812816705022539\n",
            "Epoch 2, Training Loss: 1.0801231973880046, Validation Loss: 1.0728308388165064\n",
            "Epoch 3, Training Loss: 1.0724083399987436, Validation Loss: 1.066984508718763\n",
            "Epoch 4, Training Loss: 1.0675405126971167, Validation Loss: 1.0623158429350172\n",
            "Epoch 5, Training Loss: 1.0638770095936887, Validation Loss: 1.058301912886756\n",
            "Epoch 6, Training Loss: 1.060632062387896, Validation Loss: 1.054536189351763\n",
            "Epoch 7, Training Loss: 1.0574694662480741, Validation Loss: 1.050788904939379\n",
            "Epoch 8, Training Loss: 1.0552036217204086, Validation Loss: 1.047193901879447\n",
            "Epoch 9, Training Loss: 1.0523202838124455, Validation Loss: 1.0436465059007918\n",
            "Epoch 10, Training Loss: 1.048221319108396, Validation Loss: 1.0401403776236944\n"
          ]
        },
        {
          "output_type": "stream",
          "name": "stderr",
          "text": [
            "/usr/local/lib/python3.10/dist-packages/sklearn/metrics/_classification.py:1344: UndefinedMetricWarning: Precision is ill-defined and being set to 0.0 in labels with no predicted samples. Use `zero_division` parameter to control this behavior.\n",
            "  _warn_prf(average, modifier, msg_start, len(result))\n"
          ]
        },
        {
          "output_type": "stream",
          "name": "stdout",
          "text": [
            "Epoch 1, Training Loss: 1.0836546539186358, Validation Loss: 1.0696849056652613\n",
            "Epoch 2, Training Loss: 1.07226336378235, Validation Loss: 1.0592577840600694\n",
            "Epoch 3, Training Loss: 1.0615722477973044, Validation Loss: 1.0515927970409393\n",
            "Epoch 4, Training Loss: 1.0601238272748552, Validation Loss: 1.0453332151685442\n",
            "Epoch 5, Training Loss: 1.0521778837517575, Validation Loss: 1.0394458643027715\n",
            "Epoch 6, Training Loss: 1.0476131968133084, Validation Loss: 1.0340891927480698\n",
            "Epoch 7, Training Loss: 1.045302178140159, Validation Loss: 1.029166694198336\n",
            "Epoch 8, Training Loss: 1.038841247021615, Validation Loss: 1.0244179133858\n",
            "Epoch 9, Training Loss: 1.0318560858030577, Validation Loss: 1.0197714567184448\n",
            "Epoch 10, Training Loss: 1.030000951913026, Validation Loss: 1.0153345039912633\n"
          ]
        },
        {
          "output_type": "stream",
          "name": "stderr",
          "text": [
            "/usr/local/lib/python3.10/dist-packages/sklearn/metrics/_classification.py:1344: UndefinedMetricWarning: Precision is ill-defined and being set to 0.0 in labels with no predicted samples. Use `zero_division` parameter to control this behavior.\n",
            "  _warn_prf(average, modifier, msg_start, len(result))\n"
          ]
        },
        {
          "output_type": "stream",
          "name": "stdout",
          "text": [
            "Epoch 1, Training Loss: 1.0525081563103307, Validation Loss: 1.0105844203914915\n",
            "Epoch 2, Training Loss: 1.00531487636738, Validation Loss: 0.9784868082829884\n",
            "Epoch 3, Training Loss: 0.9853973125552272, Validation Loss: 0.963143412555967\n",
            "Epoch 4, Training Loss: 0.9758130706645347, Validation Loss: 0.954184176666396\n",
            "Epoch 5, Training Loss: 0.9707176113450849, Validation Loss: 0.9493736071246011\n",
            "Epoch 6, Training Loss: 0.9673347583225181, Validation Loss: 0.9438191183975765\n",
            "Epoch 7, Training Loss: 0.9603371614808435, Validation Loss: 0.9390991032123566\n",
            "Epoch 8, Training Loss: 0.9590330899835707, Validation Loss: 0.9355548598936626\n",
            "Epoch 9, Training Loss: 0.9541618904551944, Validation Loss: 0.9308208440031324\n",
            "Epoch 10, Training Loss: 0.9508759948584411, Validation Loss: 0.9264481323105949\n",
            "Epoch 1, Training Loss: 1.0650535467508677, Validation Loss: 1.0312049452747618\n",
            "Epoch 2, Training Loss: 1.0204413468773301, Validation Loss: 0.9904837267739433\n",
            "Epoch 3, Training Loss: 0.9935312649688205, Validation Loss: 0.9627711474895477\n",
            "Epoch 4, Training Loss: 0.9738778141704766, Validation Loss: 0.9453449100255966\n",
            "Epoch 5, Training Loss: 0.9637069178594125, Validation Loss: 0.9341347238847187\n",
            "Epoch 6, Training Loss: 0.956088713697485, Validation Loss: 0.925315478018352\n",
            "Epoch 7, Training Loss: 0.9489339002080865, Validation Loss: 0.920231853212629\n",
            "Epoch 8, Training Loss: 0.9461590881283218, Validation Loss: 0.9150282314845494\n",
            "Epoch 9, Training Loss: 0.9416322917551607, Validation Loss: 0.9109740683010646\n",
            "Epoch 10, Training Loss: 0.9366276368901536, Validation Loss: 0.907108696443694\n",
            "Best Parameters: {'dropout': 0.5, 'hidden_dim': 64, 'learning_rate': 0.01, 'weight_decay': 1e-05}\n",
            "Best Validation Score: 0.6002252252252253\n",
            "Epoch 1, Training Loss: 1.0556403019943752, Validation Loss: 1.01899134687015\n",
            "Epoch 2, Training Loss: 1.0041662860024083, Validation Loss: 0.9760731671537671\n",
            "Epoch 3, Training Loss: 0.972371481560372, Validation Loss: 0.9489117796931948\n",
            "Epoch 4, Training Loss: 0.9566620846052427, Validation Loss: 0.9337225151913506\n",
            "Epoch 5, Training Loss: 0.9455357059702143, Validation Loss: 0.923670061997005\n",
            "Epoch 6, Training Loss: 0.9370170922966691, Validation Loss: 0.9161456163440432\n",
            "Epoch 7, Training Loss: 0.9323936735724544, Validation Loss: 0.911160192319325\n",
            "Epoch 8, Training Loss: 0.9315499684832118, Validation Loss: 0.9079152303082603\n",
            "Epoch 9, Training Loss: 0.9304552513199884, Validation Loss: 0.9052983543702534\n",
            "Epoch 10, Training Loss: 0.9244148712437432, Validation Loss: 0.902910651905196\n",
            "Validation Accuracy: 0.5912162162162162\n",
            "Validation Precision: 0.5778217681418721\n",
            "Validation Recall: 0.5912162162162162\n",
            "Validation Confusion Matrix:\n",
            "[[ 14  59 168]\n",
            " [ 10 158  91]\n",
            " [  3  32 353]]\n",
            "Model saved successfully!\n"
          ]
        }
      ]
    },
    {
      "cell_type": "markdown",
      "source": [
        "# **LSTM with Word2Vec and Grid_Search for Hyperparameter**"
      ],
      "metadata": {
        "id": "jzEB_4_TlXHV"
      }
    },
    {
      "cell_type": "code",
      "source": [
        "# Hyperparameter search\n",
        "def grid_search(train_loader, val_loader, param_grid):\n",
        "    param_grid = list(ParameterGrid(param_grid))\n",
        "    best_params = None\n",
        "    best_val_accuracy = 0\n",
        "\n",
        "    for params in param_grid:\n",
        "        print(f\"Training with params: {params}\")\n",
        "        model = LSTMModel(len(vocab), params['embedding_dim'], params['hidden_dim'], 3, len(aspect_to_idx),\n",
        "                          use_attention=params['use_attention'], dropout=params['dropout'], embedding_matrix=embedding_matrix)\n",
        "        train_model(model, train_loader, val_loader, epochs=params['epochs'], learning_rate=params['learning_rate'],\n",
        "                    patience=params['patience'], weight_decay=params['weight_decay'], clip_value=params['clip_value'])\n",
        "\n",
        "        val_accuracy, val_precision, val_recall, val_cm = evaluate_model_performance(model, val_loader)\n",
        "        if val_accuracy > best_val_accuracy:\n",
        "            best_val_accuracy = val_accuracy\n",
        "            best_params = params\n",
        "        print(f\"Validation Accuracy: {val_accuracy}\")\n",
        "\n",
        "    print(f\"Best params: {best_params}, Best Validation Accuracy: {best_val_accuracy}\")\n",
        "    return best_params"
      ],
      "metadata": {
        "id": "DNONCkBQB-s9"
      },
      "execution_count": null,
      "outputs": []
    },
    {
      "cell_type": "code",
      "source": [
        "class LSTMModel(nn.Module):\n",
        "    def __init__(self, vocab_size, embedding_dim, hidden_dim, output_dim, aspect_dim, use_attention=False, return_attention=False, dropout=0.5, embedding_matrix=None):\n",
        "        super(LSTMModel, self).__init__()\n",
        "        self.use_attention = use_attention\n",
        "        self.return_attention = return_attention  # control the return of attention value\n",
        "        self.embedding = nn.Embedding(vocab_size, embedding_dim)\n",
        "        if embedding_matrix is not None:\n",
        "            self.embedding.weight.data.copy_(torch.from_numpy(embedding_matrix))\n",
        "            self.embedding.weight.requires_grad = False  # Optionally freeze embeddings\n",
        "        self.aspect_embedding = nn.Embedding(len(aspect_to_idx), aspect_dim)\n",
        "        self.lstm = nn.LSTM(embedding_dim + aspect_dim, hidden_dim, batch_first=True, bidirectional=True)\n",
        "        self.dropout = nn.Dropout(dropout)\n",
        "        self.fc = nn.Linear(hidden_dim * 2, output_dim)\n",
        "        if use_attention:\n",
        "            self.attention = nn.Linear(hidden_dim * 2 + aspect_dim, 1)\n",
        "\n",
        "    def forward(self, reviews, aspects):\n",
        "        embedded_reviews = self.embedding(reviews)\n",
        "        embedded_aspects = self.aspect_embedding(aspects).unsqueeze(1).repeat(1, embedded_reviews.size(1), 1)\n",
        "        lstm_input = torch.cat((embedded_reviews, embedded_aspects), dim=2)\n",
        "        lstm_output, _ = self.lstm(lstm_input)\n",
        "\n",
        "        if self.use_attention:\n",
        "            attn_input = torch.cat((lstm_output, embedded_aspects), dim=2)\n",
        "            attn_scores = self.attention(attn_input)\n",
        "            attn_weights = F.softmax(attn_scores, dim=1)\n",
        "            attn_applied = torch.bmm(attn_weights.transpose(1, 2), lstm_output)\n",
        "            final_feature_map = self.dropout(attn_applied.squeeze(1))\n",
        "        else:\n",
        "            final_feature_map = self.dropout(lstm_output[:, -1, :])\n",
        "\n",
        "        output = self.fc(final_feature_map)\n",
        "\n",
        "        if self.use_attention and self.return_attention:\n",
        "            return output, attn_weights\n",
        "        return output\n",
        "\n"
      ],
      "metadata": {
        "id": "IBA5FxK_CJdN"
      },
      "execution_count": null,
      "outputs": []
    },
    {
      "cell_type": "code",
      "source": [
        "# Training function with early stopping, learning rate scheduler, and gradient clipping\n",
        "def train_model(model, train_loader, val_loader, epochs, learning_rate, patience=3, weight_decay=0.0, clip_value=1.0):\n",
        "    criterion = nn.CrossEntropyLoss()\n",
        "    optimizer = optim.SGD(model.parameters(), lr=learning_rate, weight_decay=weight_decay)\n",
        "    scheduler = optim.lr_scheduler.ReduceLROnPlateau(optimizer, 'min', patience=2, factor=0.5)\n",
        "    best_val_loss = float('inf')\n",
        "    patience_counter = 0\n",
        "\n",
        "    for epoch in range(epochs):\n",
        "        model.train()\n",
        "        total_loss = 0\n",
        "        for reviews, aspects, sentiments in train_loader:\n",
        "            optimizer.zero_grad()\n",
        "            outputs = model(reviews, aspects)\n",
        "            loss = criterion(outputs, sentiments)\n",
        "            loss.backward()\n",
        "            nn.utils.clip_grad_norm_(model.parameters(), clip_value)\n",
        "            optimizer.step()\n",
        "            total_loss += loss.item()\n",
        "\n",
        "        val_loss = evaluate_model(model, val_loader)\n",
        "        scheduler.step(val_loss)\n",
        "        print(f'Epoch {epoch+1}, Training Loss: {total_loss/len(train_loader)}, Validation Loss: {val_loss/len(val_loader)}')\n",
        "\n",
        "        if val_loss < best_val_loss:\n",
        "            best_val_loss = val_loss\n",
        "            patience_counter = 0\n",
        "        else:\n",
        "            patience_counter += 1\n",
        "\n",
        "        if patience_counter >= patience:\n",
        "            print(\"Early stopping triggered\")\n",
        "            break"
      ],
      "metadata": {
        "id": "10lm5GLMCM5X"
      },
      "execution_count": null,
      "outputs": []
    },
    {
      "cell_type": "code",
      "source": [
        "\n",
        "# Evaluation function\n",
        "def evaluate_model(model, val_loader):\n",
        "    model.eval()\n",
        "    total_loss = 0\n",
        "    criterion = nn.CrossEntropyLoss()\n",
        "    with torch.no_grad():\n",
        "        for reviews, aspects, sentiments in val_loader:\n",
        "            outputs = model(reviews, aspects)\n",
        "            loss = criterion(outputs, sentiments)\n",
        "            total_loss += loss.item()\n",
        "    return total_loss\n",
        "\n",
        "# Evaluate model performance\n",
        "def evaluate_model_performance(model, data_loader):\n",
        "    model.eval()\n",
        "    all_predictions = []\n",
        "    all_labels = []\n",
        "\n",
        "    with torch.no_grad():\n",
        "        for reviews, aspects, sentiments in data_loader:\n",
        "            outputs = model(reviews, aspects)\n",
        "            _, predictions = torch.max(outputs, 1)\n",
        "            all_predictions.extend(predictions.cpu().numpy())\n",
        "            all_labels.extend(sentiments.cpu().numpy())\n",
        "\n",
        "    accuracy = accuracy_score(all_labels, all_predictions)\n",
        "    precision = precision_score(all_labels, all_predictions, average='weighted')\n",
        "    recall = recall_score(all_labels, all_predictions, average='weighted')\n",
        "    cm = confusion_matrix(all_labels, all_predictions)\n",
        "\n",
        "    return accuracy, precision, recall, cm"
      ],
      "metadata": {
        "id": "90lIUoGwCORT"
      },
      "execution_count": null,
      "outputs": []
    },
    {
      "cell_type": "code",
      "source": [
        "# Main execution block\n",
        "if __name__ == \"__main__\":\n",
        "    # Load and preprocess data\n",
        "    train_data = load_data('train.json')\n",
        "    val_data = load_data('val.json')\n",
        "    test_data = load_data('test.json')\n",
        "\n",
        "    vocab, word_to_idx, aspect_to_idx, sentiment_to_idx = build_vocab_and_mappings(pd.concat([train_data, val_data, test_data]))\n",
        "\n",
        "    train_reviews, train_aspects, train_sentiments = preprocess_data(train_data, word_to_idx, aspect_to_idx, sentiment_to_idx)\n",
        "    val_reviews, val_aspects, val_sentiments = preprocess_data(val_data, word_to_idx, aspect_to_idx, sentiment_to_idx)\n",
        "    test_reviews, test_aspects, test_sentiments = preprocess_data(test_data, word_to_idx, aspect_to_idx, sentiment_to_idx)\n",
        "\n",
        "    # Load Word2Vec embeddings\n",
        "    word2vec_model = api.load('word2vec-google-news-300')\n",
        "    embedding_matrix = load_word2vec_embeddings(word2vec_model, word_to_idx)\n",
        "\n",
        "    # Initialize datasets and data loaders\n",
        "    train_dataset = ABSA_Dataset(train_reviews, train_aspects, train_sentiments)\n",
        "    val_dataset = ABSA_Dataset(val_reviews, val_aspects, val_sentiments)\n",
        "    test_dataset = ABSA_Dataset(test_reviews, test_aspects, test_sentiments)\n",
        "\n",
        "    train_loader = DataLoader(train_dataset, batch_size=32, shuffle=True, collate_fn=collate_fn)\n",
        "    val_loader = DataLoader(val_dataset, batch_size=32, shuffle=False, collate_fn=collate_fn)\n",
        "    test_loader = DataLoader(test_dataset, batch_size=32, shuffle=False, collate_fn=collate_fn)\n",
        "\n",
        "    # Hyperparameter grid search\n",
        "    param_grid = {\n",
        "        'embedding_dim': [300],\n",
        "        'hidden_dim': [64],\n",
        "        'use_attention': [True],\n",
        "        'dropout': [0.5],\n",
        "        'epochs': [10,20],\n",
        "        'learning_rate': [0.001, 0.01],\n",
        "        'patience': [3,5],\n",
        "        'weight_decay': [1e-4, 1e-5],\n",
        "        'clip_value': [1.0]\n",
        "    }\n",
        "    best_params = grid_search(train_loader, val_loader, param_grid)\n",
        "\n",
        "    # Train final model with best parameters\n",
        "    final_model = LSTMModel(len(vocab), best_params['embedding_dim'], best_params['hidden_dim'], 3, len(aspect_to_idx),\n",
        "                            use_attention=best_params['use_attention'], dropout=best_params['dropout'], embedding_matrix=embedding_matrix)\n",
        "    train_model(final_model, train_loader, val_loader, epochs=best_params['epochs'], learning_rate=best_params['learning_rate'],\n",
        "                patience=best_params['patience'], weight_decay=best_params['weight_decay'], clip_value=best_params['clip_value'])\n",
        "\n",
        "    # Evaluate final model performance\n",
        "    val_accuracy, val_precision, val_recall, val_cm = evaluate_model_performance(final_model, val_loader)\n",
        "    print(f'Final Validation Accuracy: {val_accuracy}')\n",
        "    print(f'Final Validation Precision: {val_precision}')\n",
        "    print(f'Final Validation Recall: {val_recall}')\n",
        "    print(f'Final Validation Confusion Matrix:\\n{val_cm}')\n",
        "\n",
        "    test_accuracy, test_precision, test_recall, test_cm = evaluate_model_performance(final_model, test_loader)\n",
        "    print(f'Final Test Accuracy: {test_accuracy}')\n",
        "    print(f'Final Test Precision: {test_precision}')\n",
        "    print(f'Final Test Recall: {test_recall}')\n",
        "    print(f'Final Test Confusion Matrix:\\n{test_cm}')"
      ],
      "metadata": {
        "id": "JJ-m2kQv9-f0",
        "colab": {
          "base_uri": "https://localhost:8080/"
        },
        "outputId": "66826515-d68c-4c0e-bdf3-96f6cba3299b"
      },
      "execution_count": null,
      "outputs": [
        {
          "output_type": "stream",
          "name": "stdout",
          "text": [
            "Training with params: {'clip_value': 1.0, 'dropout': 0.5, 'embedding_dim': 300, 'epochs': 10, 'hidden_dim': 64, 'learning_rate': 0.001, 'patience': 3, 'use_attention': True, 'weight_decay': 0.0001}\n",
            "Epoch 1, Training Loss: 1.1095963082871996, Validation Loss: 1.0961687053952898\n",
            "Epoch 2, Training Loss: 1.0866952758651596, Validation Loss: 1.073012215750558\n",
            "Epoch 3, Training Loss: 1.0688678896104968, Validation Loss: 1.0549434678895133\n",
            "Epoch 4, Training Loss: 1.0553732557339712, Validation Loss: 1.0405311371598924\n",
            "Epoch 5, Training Loss: 1.0442651819001447, Validation Loss: 1.0287043069090163\n",
            "Epoch 6, Training Loss: 1.035262378486427, Validation Loss: 1.018949908869607\n",
            "Epoch 7, Training Loss: 1.030064933740341, Validation Loss: 1.010693290403911\n",
            "Epoch 8, Training Loss: 1.0230323511200983, Validation Loss: 1.003521284886769\n",
            "Epoch 9, Training Loss: 1.0183171240596083, Validation Loss: 0.9973858169146946\n",
            "Epoch 10, Training Loss: 1.0128358860273619, Validation Loss: 0.9919011784451348\n",
            "Validation Accuracy: 0.5608108108108109\n",
            "Training with params: {'clip_value': 1.0, 'dropout': 0.5, 'embedding_dim': 300, 'epochs': 10, 'hidden_dim': 64, 'learning_rate': 0.001, 'patience': 3, 'use_attention': True, 'weight_decay': 1e-05}\n"
          ]
        },
        {
          "output_type": "stream",
          "name": "stderr",
          "text": [
            "/usr/local/lib/python3.10/dist-packages/sklearn/metrics/_classification.py:1344: UndefinedMetricWarning: Precision is ill-defined and being set to 0.0 in labels with no predicted samples. Use `zero_division` parameter to control this behavior.\n",
            "  _warn_prf(average, modifier, msg_start, len(result))\n"
          ]
        },
        {
          "output_type": "stream",
          "name": "stdout",
          "text": [
            "Epoch 1, Training Loss: 1.1005733115179044, Validation Loss: 1.094179323741368\n",
            "Epoch 2, Training Loss: 1.08934532629477, Validation Loss: 1.0825557197843279\n",
            "Epoch 3, Training Loss: 1.0781954575229336, Validation Loss: 1.0721919238567352\n",
            "Epoch 4, Training Loss: 1.0693752040734161, Validation Loss: 1.0627621582576208\n",
            "Epoch 5, Training Loss: 1.060126171455727, Validation Loss: 1.054270327091217\n",
            "Epoch 6, Training Loss: 1.0517455156858977, Validation Loss: 1.0464836699622018\n",
            "Epoch 7, Training Loss: 1.0451275706291199, Validation Loss: 1.0393622176987785\n",
            "Epoch 8, Training Loss: 1.038597464292973, Validation Loss: 1.0326496213674545\n",
            "Epoch 9, Training Loss: 1.031849750258901, Validation Loss: 1.0264195586953844\n",
            "Epoch 10, Training Loss: 1.026629797778688, Validation Loss: 1.0206963952098573\n",
            "Validation Accuracy: 0.5574324324324325\n",
            "Training with params: {'clip_value': 1.0, 'dropout': 0.5, 'embedding_dim': 300, 'epochs': 10, 'hidden_dim': 64, 'learning_rate': 0.001, 'patience': 5, 'use_attention': True, 'weight_decay': 0.0001}\n"
          ]
        },
        {
          "output_type": "stream",
          "name": "stderr",
          "text": [
            "/usr/local/lib/python3.10/dist-packages/sklearn/metrics/_classification.py:1344: UndefinedMetricWarning: Precision is ill-defined and being set to 0.0 in labels with no predicted samples. Use `zero_division` parameter to control this behavior.\n",
            "  _warn_prf(average, modifier, msg_start, len(result))\n"
          ]
        },
        {
          "output_type": "stream",
          "name": "stdout",
          "text": [
            "Epoch 1, Training Loss: 1.0917765256520864, Validation Loss: 1.0854348497731345\n",
            "Epoch 2, Training Loss: 1.0819518141918354, Validation Loss: 1.0752782608781541\n",
            "Epoch 3, Training Loss: 1.0735213037009712, Validation Loss: 1.066443805183683\n",
            "Epoch 4, Training Loss: 1.06587612091958, Validation Loss: 1.0586635512965066\n",
            "Epoch 5, Training Loss: 1.0590232143530975, Validation Loss: 1.0517368699823106\n",
            "Epoch 6, Training Loss: 1.053687713973157, Validation Loss: 1.045489149434226\n",
            "Epoch 7, Training Loss: 1.048488445647128, Validation Loss: 1.0398130927767073\n",
            "Epoch 8, Training Loss: 1.042325487007966, Validation Loss: 1.0346107546772276\n",
            "Epoch 9, Training Loss: 1.0376681728405996, Validation Loss: 1.0297688565083913\n",
            "Epoch 10, Training Loss: 1.0338830351829529, Validation Loss: 1.0252892289842879\n",
            "Validation Accuracy: 0.5574324324324325\n",
            "Training with params: {'clip_value': 1.0, 'dropout': 0.5, 'embedding_dim': 300, 'epochs': 10, 'hidden_dim': 64, 'learning_rate': 0.001, 'patience': 5, 'use_attention': True, 'weight_decay': 1e-05}\n"
          ]
        },
        {
          "output_type": "stream",
          "name": "stderr",
          "text": [
            "/usr/local/lib/python3.10/dist-packages/sklearn/metrics/_classification.py:1344: UndefinedMetricWarning: Precision is ill-defined and being set to 0.0 in labels with no predicted samples. Use `zero_division` parameter to control this behavior.\n",
            "  _warn_prf(average, modifier, msg_start, len(result))\n"
          ]
        },
        {
          "output_type": "stream",
          "name": "stdout",
          "text": [
            "Epoch 1, Training Loss: 1.1003850091685046, Validation Loss: 1.092415064573288\n",
            "Epoch 2, Training Loss: 1.0875405518858283, Validation Loss: 1.0798982211521693\n",
            "Epoch 3, Training Loss: 1.0765895440771773, Validation Loss: 1.0691064085279192\n",
            "Epoch 4, Training Loss: 1.0661687665694468, Validation Loss: 1.0596302364553725\n",
            "Epoch 5, Training Loss: 1.0577866354504146, Validation Loss: 1.0512336535113198\n",
            "Epoch 6, Training Loss: 1.049751084398579, Validation Loss: 1.0436590484210424\n",
            "Epoch 7, Training Loss: 1.043484892662581, Validation Loss: 1.0367235562631063\n",
            "Epoch 8, Training Loss: 1.0382711484625533, Validation Loss: 1.0302864100251878\n",
            "Epoch 9, Training Loss: 1.0328547393416498, Validation Loss: 1.024380624294281\n",
            "Epoch 10, Training Loss: 1.0261390751546569, Validation Loss: 1.0187536073582513\n",
            "Validation Accuracy: 0.5574324324324325\n",
            "Training with params: {'clip_value': 1.0, 'dropout': 0.5, 'embedding_dim': 300, 'epochs': 10, 'hidden_dim': 64, 'learning_rate': 0.01, 'patience': 3, 'use_attention': True, 'weight_decay': 0.0001}\n"
          ]
        },
        {
          "output_type": "stream",
          "name": "stderr",
          "text": [
            "/usr/local/lib/python3.10/dist-packages/sklearn/metrics/_classification.py:1344: UndefinedMetricWarning: Precision is ill-defined and being set to 0.0 in labels with no predicted samples. Use `zero_division` parameter to control this behavior.\n",
            "  _warn_prf(average, modifier, msg_start, len(result))\n"
          ]
        },
        {
          "output_type": "stream",
          "name": "stdout",
          "text": [
            "Epoch 1, Training Loss: 1.0487424634598397, Validation Loss: 1.0101623428719384\n",
            "Epoch 2, Training Loss: 0.9951091435578492, Validation Loss: 0.9655696941273553\n",
            "Epoch 3, Training Loss: 0.9643510185383461, Validation Loss: 0.9412297031709126\n",
            "Epoch 4, Training Loss: 0.9507141744231319, Validation Loss: 0.9295915194920131\n",
            "Epoch 5, Training Loss: 0.9415134803668873, Validation Loss: 0.9238048046827316\n",
            "Epoch 6, Training Loss: 0.9386082125139666, Validation Loss: 0.9199306475264686\n",
            "Epoch 7, Training Loss: 0.9360192949707443, Validation Loss: 0.9174722816262927\n",
            "Epoch 8, Training Loss: 0.9331880354129516, Validation Loss: 0.9153101891279221\n",
            "Epoch 9, Training Loss: 0.9331162926313039, Validation Loss: 0.9139376005956105\n",
            "Epoch 10, Training Loss: 0.9305392066100696, Validation Loss: 0.9126777670213154\n",
            "Validation Accuracy: 0.5990990990990991\n",
            "Training with params: {'clip_value': 1.0, 'dropout': 0.5, 'embedding_dim': 300, 'epochs': 10, 'hidden_dim': 64, 'learning_rate': 0.01, 'patience': 3, 'use_attention': True, 'weight_decay': 1e-05}\n",
            "Epoch 1, Training Loss: 1.0753258316366523, Validation Loss: 1.0513049491814204\n",
            "Epoch 2, Training Loss: 1.0386245030540604, Validation Loss: 1.0245451820748193\n",
            "Epoch 3, Training Loss: 1.0157686509527601, Validation Loss: 1.0032248347997665\n",
            "Epoch 4, Training Loss: 0.9974108735720316, Validation Loss: 0.9847938418388367\n",
            "Epoch 5, Training Loss: 0.9842853146093385, Validation Loss: 0.96885875080313\n",
            "Epoch 6, Training Loss: 0.9720706093955684, Validation Loss: 0.9549196788242885\n",
            "Epoch 7, Training Loss: 0.961512099246721, Validation Loss: 0.9439016239983695\n",
            "Epoch 8, Training Loss: 0.9559593077178474, Validation Loss: 0.9351305365562439\n",
            "Epoch 9, Training Loss: 0.9510315490198565, Validation Loss: 0.9284066643033709\n",
            "Epoch 10, Training Loss: 0.9468540299583126, Validation Loss: 0.9228900053671428\n",
            "Validation Accuracy: 0.5900900900900901\n",
            "Training with params: {'clip_value': 1.0, 'dropout': 0.5, 'embedding_dim': 300, 'epochs': 10, 'hidden_dim': 64, 'learning_rate': 0.01, 'patience': 5, 'use_attention': True, 'weight_decay': 0.0001}\n",
            "Epoch 1, Training Loss: 1.0720257254334185, Validation Loss: 1.0497368957315172\n",
            "Epoch 2, Training Loss: 1.036426917658196, Validation Loss: 1.0198895462921687\n",
            "Epoch 3, Training Loss: 1.0047850871945287, Validation Loss: 0.9905913855348315\n",
            "Epoch 4, Training Loss: 0.9762305023970904, Validation Loss: 0.9642052203416824\n",
            "Epoch 5, Training Loss: 0.9573391649100158, Validation Loss: 0.9456294178962708\n",
            "Epoch 6, Training Loss: 0.9443070260254113, Validation Loss: 0.9338096976280212\n",
            "Epoch 7, Training Loss: 0.9365499196825801, Validation Loss: 0.9267077360834394\n",
            "Epoch 8, Training Loss: 0.9332511285403827, Validation Loss: 0.9225943216255733\n",
            "Epoch 9, Training Loss: 0.9327012560926042, Validation Loss: 0.9186491348913738\n",
            "Epoch 10, Training Loss: 0.9330712315198537, Validation Loss: 0.9153258545058114\n",
            "Validation Accuracy: 0.5990990990990991\n",
            "Training with params: {'clip_value': 1.0, 'dropout': 0.5, 'embedding_dim': 300, 'epochs': 10, 'hidden_dim': 64, 'learning_rate': 0.01, 'patience': 5, 'use_attention': True, 'weight_decay': 1e-05}\n",
            "Epoch 1, Training Loss: 1.0644816579045475, Validation Loss: 1.0341390541621618\n",
            "Epoch 2, Training Loss: 1.0266018246745203, Validation Loss: 0.9986930936574936\n",
            "Epoch 3, Training Loss: 0.9990111624335384, Validation Loss: 0.9699190706014633\n",
            "Epoch 4, Training Loss: 0.9804472112440848, Validation Loss: 0.9489750734397343\n",
            "Epoch 5, Training Loss: 0.9647965117080791, Validation Loss: 0.9366340530770165\n",
            "Epoch 6, Training Loss: 0.9573503238660795, Validation Loss: 0.927904663341386\n",
            "Epoch 7, Training Loss: 0.9505493922813518, Validation Loss: 0.9227879792451859\n",
            "Epoch 8, Training Loss: 0.9452806687032854, Validation Loss: 0.9189851709774562\n",
            "Epoch 9, Training Loss: 0.9429235536235947, Validation Loss: 0.9168762075049537\n",
            "Epoch 10, Training Loss: 0.9367217271177618, Validation Loss: 0.9142350235155651\n",
            "Validation Accuracy: 0.5822072072072072\n",
            "Training with params: {'clip_value': 1.0, 'dropout': 0.5, 'embedding_dim': 300, 'epochs': 20, 'hidden_dim': 64, 'learning_rate': 0.001, 'patience': 3, 'use_attention': True, 'weight_decay': 0.0001}\n"
          ]
        },
        {
          "output_type": "stream",
          "name": "stderr",
          "text": [
            "/usr/local/lib/python3.10/dist-packages/sklearn/metrics/_classification.py:1344: UndefinedMetricWarning: Precision is ill-defined and being set to 0.0 in labels with no predicted samples. Use `zero_division` parameter to control this behavior.\n",
            "  _warn_prf(average, modifier, msg_start, len(result))\n"
          ]
        },
        {
          "output_type": "stream",
          "name": "stdout",
          "text": [
            "Epoch 1, Training Loss: 1.1024147524490013, Validation Loss: 1.0926674008369446\n",
            "Epoch 2, Training Loss: 1.0869055014472824, Validation Loss: 1.0769441851547785\n",
            "Epoch 3, Training Loss: 1.0729351849169344, Validation Loss: 1.0628915088517326\n",
            "Epoch 4, Training Loss: 1.061286660196545, Validation Loss: 1.050231661115374\n",
            "Epoch 5, Training Loss: 1.049321108036213, Validation Loss: 1.0385374618428094\n",
            "Epoch 6, Training Loss: 1.0389511695316247, Validation Loss: 1.0278428473642893\n",
            "Epoch 7, Training Loss: 1.0303371427832424, Validation Loss: 1.017989190561431\n",
            "Epoch 8, Training Loss: 1.0228600343605418, Validation Loss: 1.0088529757090978\n",
            "Epoch 9, Training Loss: 1.0151566820101694, Validation Loss: 1.0004090751920427\n",
            "Epoch 10, Training Loss: 1.008646267491418, Validation Loss: 0.9926493508475167\n",
            "Epoch 11, Training Loss: 1.0024445588524278, Validation Loss: 0.9855168823684964\n",
            "Epoch 12, Training Loss: 0.996385565212181, Validation Loss: 0.9789022909743446\n",
            "Epoch 13, Training Loss: 0.9924440625551585, Validation Loss: 0.972906734262194\n",
            "Epoch 14, Training Loss: 0.9875764862911122, Validation Loss: 0.9674252697399685\n",
            "Epoch 15, Training Loss: 0.9816832606856888, Validation Loss: 0.9623795534883227\n",
            "Epoch 16, Training Loss: 0.9800712160162024, Validation Loss: 0.9578282960823604\n",
            "Epoch 17, Training Loss: 0.9762045942448281, Validation Loss: 0.9537269238914762\n",
            "Epoch 18, Training Loss: 0.9732606561334284, Validation Loss: 0.9499874923910413\n",
            "Epoch 19, Training Loss: 0.971301046040681, Validation Loss: 0.9466514076505389\n",
            "Epoch 20, Training Loss: 0.9671706232401702, Validation Loss: 0.9435499438217708\n",
            "Validation Accuracy: 0.5630630630630631\n",
            "Training with params: {'clip_value': 1.0, 'dropout': 0.5, 'embedding_dim': 300, 'epochs': 20, 'hidden_dim': 64, 'learning_rate': 0.001, 'patience': 3, 'use_attention': True, 'weight_decay': 1e-05}\n"
          ]
        },
        {
          "output_type": "stream",
          "name": "stderr",
          "text": [
            "/usr/local/lib/python3.10/dist-packages/sklearn/metrics/_classification.py:1344: UndefinedMetricWarning: Precision is ill-defined and being set to 0.0 in labels with no predicted samples. Use `zero_division` parameter to control this behavior.\n",
            "  _warn_prf(average, modifier, msg_start, len(result))\n"
          ]
        },
        {
          "output_type": "stream",
          "name": "stdout",
          "text": [
            "Epoch 1, Training Loss: 1.0935921438105471, Validation Loss: 1.0842567341668266\n",
            "Epoch 2, Training Loss: 1.0809943128276516, Validation Loss: 1.072224144424711\n",
            "Epoch 3, Training Loss: 1.0722329611176844, Validation Loss: 1.0618783576147897\n",
            "Epoch 4, Training Loss: 1.0611881621786066, Validation Loss: 1.0527629085949488\n",
            "Epoch 5, Training Loss: 1.0547346453945916, Validation Loss: 1.0446805996554238\n",
            "Epoch 6, Training Loss: 1.0465484774327494, Validation Loss: 1.037360823580197\n",
            "Epoch 7, Training Loss: 1.0404550575458251, Validation Loss: 1.0306607165506907\n",
            "Epoch 8, Training Loss: 1.034580494100983, Validation Loss: 1.0243898864303316\n",
            "Epoch 9, Training Loss: 1.028318320577209, Validation Loss: 1.0185109653643198\n",
            "Epoch 10, Training Loss: 1.0219221351382968, Validation Loss: 1.0129391316856657\n",
            "Epoch 11, Training Loss: 1.0180746604193438, Validation Loss: 1.0076575108936854\n",
            "Epoch 12, Training Loss: 1.0132022352368981, Validation Loss: 1.0026557339089257\n",
            "Epoch 13, Training Loss: 1.0102173092665974, Validation Loss: 0.9979177649532046\n",
            "Epoch 14, Training Loss: 1.0061380557111792, Validation Loss: 0.9934159794024059\n",
            "Epoch 15, Training Loss: 1.0018850954266283, Validation Loss: 0.9891621257577624\n",
            "Epoch 16, Training Loss: 0.9974173071148159, Validation Loss: 0.9851023150341851\n",
            "Epoch 17, Training Loss: 0.9943542598604082, Validation Loss: 0.9812211117574147\n",
            "Epoch 18, Training Loss: 0.9920631840422347, Validation Loss: 0.9775659378085818\n",
            "Epoch 19, Training Loss: 0.987096358258445, Validation Loss: 0.9740417706114906\n",
            "Epoch 20, Training Loss: 0.9850307660059886, Validation Loss: 0.970756300858089\n",
            "Validation Accuracy: 0.5765765765765766\n",
            "Training with params: {'clip_value': 1.0, 'dropout': 0.5, 'embedding_dim': 300, 'epochs': 20, 'hidden_dim': 64, 'learning_rate': 0.001, 'patience': 5, 'use_attention': True, 'weight_decay': 0.0001}\n"
          ]
        },
        {
          "output_type": "stream",
          "name": "stderr",
          "text": [
            "/usr/local/lib/python3.10/dist-packages/sklearn/metrics/_classification.py:1344: UndefinedMetricWarning: Precision is ill-defined and being set to 0.0 in labels with no predicted samples. Use `zero_division` parameter to control this behavior.\n",
            "  _warn_prf(average, modifier, msg_start, len(result))\n"
          ]
        },
        {
          "output_type": "stream",
          "name": "stdout",
          "text": [
            "Epoch 1, Training Loss: 1.097758020903613, Validation Loss: 1.0872155002185278\n",
            "Epoch 2, Training Loss: 1.0806957467182263, Validation Loss: 1.0702919363975525\n",
            "Epoch 3, Training Loss: 1.066439860575908, Validation Loss: 1.0558571134294783\n",
            "Epoch 4, Training Loss: 1.053678246768745, Validation Loss: 1.0432978315012795\n",
            "Epoch 5, Training Loss: 1.0436397283463865, Validation Loss: 1.032200357743672\n",
            "Epoch 6, Training Loss: 1.0339376770698272, Validation Loss: 1.0223458877631597\n",
            "Epoch 7, Training Loss: 1.0243727336595725, Validation Loss: 1.0134827877793993\n",
            "Epoch 8, Training Loss: 1.0163916722611264, Validation Loss: 1.0054771027394704\n",
            "Epoch 9, Training Loss: 1.010467093807083, Validation Loss: 0.998335525393486\n",
            "Epoch 10, Training Loss: 1.0033621095322274, Validation Loss: 0.9918157692466464\n",
            "Epoch 11, Training Loss: 0.9969875825954987, Validation Loss: 0.9859700351953506\n",
            "Epoch 12, Training Loss: 0.9915526179043023, Validation Loss: 0.980614538703646\n",
            "Epoch 13, Training Loss: 0.9883384181035532, Validation Loss: 0.975775916661535\n",
            "Epoch 14, Training Loss: 0.9840946788186425, Validation Loss: 0.9714501180819103\n",
            "Epoch 15, Training Loss: 0.9816645185152689, Validation Loss: 0.9675916475909097\n",
            "Epoch 16, Training Loss: 0.9768866730165912, Validation Loss: 0.9640649684837886\n",
            "Epoch 17, Training Loss: 0.9734965302385725, Validation Loss: 0.9609233502830777\n",
            "Epoch 18, Training Loss: 0.9721818107205469, Validation Loss: 0.9580680536372321\n",
            "Epoch 19, Training Loss: 0.9684653051264651, Validation Loss: 0.9555355246577945\n",
            "Epoch 20, Training Loss: 0.9660536781087652, Validation Loss: 0.9532653795821326\n",
            "Validation Accuracy: 0.588963963963964\n",
            "Training with params: {'clip_value': 1.0, 'dropout': 0.5, 'embedding_dim': 300, 'epochs': 20, 'hidden_dim': 64, 'learning_rate': 0.001, 'patience': 5, 'use_attention': True, 'weight_decay': 1e-05}\n"
          ]
        },
        {
          "output_type": "stream",
          "name": "stderr",
          "text": [
            "/usr/local/lib/python3.10/dist-packages/sklearn/metrics/_classification.py:1344: UndefinedMetricWarning: Precision is ill-defined and being set to 0.0 in labels with no predicted samples. Use `zero_division` parameter to control this behavior.\n",
            "  _warn_prf(average, modifier, msg_start, len(result))\n"
          ]
        },
        {
          "output_type": "stream",
          "name": "stdout",
          "text": [
            "Epoch 1, Training Loss: 1.09077861448666, Validation Loss: 1.084112218448094\n",
            "Epoch 2, Training Loss: 1.0816174375044334, Validation Loss: 1.0756773693220956\n",
            "Epoch 3, Training Loss: 1.0748010336815774, Validation Loss: 1.0685618264334542\n",
            "Epoch 4, Training Loss: 1.069659920157613, Validation Loss: 1.062463436807905\n",
            "Epoch 5, Training Loss: 1.0641005766821336, Validation Loss: 1.0571482479572296\n",
            "Epoch 6, Training Loss: 1.0602270874891195, Validation Loss: 1.0523325034550257\n",
            "Epoch 7, Training Loss: 1.0556700098084975, Validation Loss: 1.0478998678071159\n",
            "Epoch 8, Training Loss: 1.0518337458640605, Validation Loss: 1.043788228716169\n",
            "Epoch 9, Training Loss: 1.0475762244817373, Validation Loss: 1.0398963689804077\n",
            "Epoch 10, Training Loss: 1.0439813053822733, Validation Loss: 1.0361800342798233\n",
            "Epoch 11, Training Loss: 1.039935918541642, Validation Loss: 1.0325974098273687\n",
            "Epoch 12, Training Loss: 1.0378621556200422, Validation Loss: 1.0291355209691184\n",
            "Epoch 13, Training Loss: 1.0355276196926564, Validation Loss: 1.0258208747420992\n",
            "Epoch 14, Training Loss: 1.0310886631140839, Validation Loss: 1.0225388365132468\n",
            "Epoch 15, Training Loss: 1.0283403812765002, Validation Loss: 1.0192942470312119\n",
            "Epoch 16, Training Loss: 1.0267730317674242, Validation Loss: 1.016165173479489\n",
            "Epoch 17, Training Loss: 1.0229486484785337, Validation Loss: 1.0130885222128458\n",
            "Epoch 18, Training Loss: 1.0201130020725835, Validation Loss: 1.0100858530827932\n",
            "Epoch 19, Training Loss: 1.0177837325645998, Validation Loss: 1.0071082966668266\n",
            "Epoch 20, Training Loss: 1.0146464267829518, Validation Loss: 1.004132051553045\n",
            "Validation Accuracy: 0.5574324324324325\n",
            "Training with params: {'clip_value': 1.0, 'dropout': 0.5, 'embedding_dim': 300, 'epochs': 20, 'hidden_dim': 64, 'learning_rate': 0.01, 'patience': 3, 'use_attention': True, 'weight_decay': 0.0001}\n"
          ]
        },
        {
          "output_type": "stream",
          "name": "stderr",
          "text": [
            "/usr/local/lib/python3.10/dist-packages/sklearn/metrics/_classification.py:1344: UndefinedMetricWarning: Precision is ill-defined and being set to 0.0 in labels with no predicted samples. Use `zero_division` parameter to control this behavior.\n",
            "  _warn_prf(average, modifier, msg_start, len(result))\n"
          ]
        },
        {
          "output_type": "stream",
          "name": "stdout",
          "text": [
            "Epoch 1, Training Loss: 1.081431973087895, Validation Loss: 1.0510128566196986\n",
            "Epoch 2, Training Loss: 1.0453756537523355, Validation Loss: 1.0239662847348623\n",
            "Epoch 3, Training Loss: 1.0247799013112042, Validation Loss: 1.001575265611921\n",
            "Epoch 4, Training Loss: 1.0056907083537128, Validation Loss: 0.9802202561071941\n",
            "Epoch 5, Training Loss: 0.9880425272224186, Validation Loss: 0.9604417915855136\n",
            "Epoch 6, Training Loss: 0.971729093038284, Validation Loss: 0.9439303087336677\n",
            "Epoch 7, Training Loss: 0.958810115182722, Validation Loss: 0.9318684403385434\n",
            "Epoch 8, Training Loss: 0.9479313479350494, Validation Loss: 0.9220819984163556\n",
            "Epoch 9, Training Loss: 0.9421603003063718, Validation Loss: 0.9144133010080883\n",
            "Epoch 10, Training Loss: 0.9367119165154191, Validation Loss: 0.9111763430493218\n",
            "Epoch 11, Training Loss: 0.9316138002249572, Validation Loss: 0.9084150046110153\n",
            "Epoch 12, Training Loss: 0.9292850005734075, Validation Loss: 0.9056028553417751\n",
            "Epoch 13, Training Loss: 0.9284213166516107, Validation Loss: 0.9046774485281536\n",
            "Epoch 14, Training Loss: 0.9275219351858706, Validation Loss: 0.9037574997970036\n",
            "Epoch 15, Training Loss: 0.9246068210215181, Validation Loss: 0.9018951186111995\n",
            "Epoch 16, Training Loss: 0.9234037804710973, Validation Loss: 0.9018483523811612\n",
            "Epoch 17, Training Loss: 0.923612860945968, Validation Loss: 0.9002476419721331\n",
            "Epoch 18, Training Loss: 0.9226828102055971, Validation Loss: 0.9005202544586999\n",
            "Epoch 19, Training Loss: 0.9218359159993695, Validation Loss: 0.8989397606679371\n",
            "Epoch 20, Training Loss: 0.9199444460976232, Validation Loss: 0.8989304091249194\n",
            "Validation Accuracy: 0.5990990990990991\n",
            "Training with params: {'clip_value': 1.0, 'dropout': 0.5, 'embedding_dim': 300, 'epochs': 20, 'hidden_dim': 64, 'learning_rate': 0.01, 'patience': 3, 'use_attention': True, 'weight_decay': 1e-05}\n",
            "Epoch 1, Training Loss: 1.053870171577007, Validation Loss: 1.011680224112102\n",
            "Epoch 2, Training Loss: 0.9974907585629472, Validation Loss: 0.9714683273008892\n",
            "Epoch 3, Training Loss: 0.9743729574723287, Validation Loss: 0.9538499861955643\n",
            "Epoch 4, Training Loss: 0.9640062360076217, Validation Loss: 0.9455940638269696\n",
            "Epoch 5, Training Loss: 0.9592577713029878, Validation Loss: 0.9399443800960269\n",
            "Epoch 6, Training Loss: 0.9572544151598269, Validation Loss: 0.9347413522856576\n",
            "Epoch 7, Training Loss: 0.9514668084479667, Validation Loss: 0.9302806769098554\n",
            "Epoch 8, Training Loss: 0.9493058595034454, Validation Loss: 0.9263727430786405\n",
            "Epoch 9, Training Loss: 0.9468367046064085, Validation Loss: 0.9233181795903614\n",
            "Epoch 10, Training Loss: 0.9442718241128836, Validation Loss: 0.9201955454690116\n",
            "Epoch 11, Training Loss: 0.9422514162085078, Validation Loss: 0.9177906598363604\n",
            "Epoch 12, Training Loss: 0.9388703620648599, Validation Loss: 0.9155273948396955\n",
            "Epoch 13, Training Loss: 0.9383104494563094, Validation Loss: 0.9130272652421679\n",
            "Epoch 14, Training Loss: 0.9363930373041479, Validation Loss: 0.9114825299807957\n",
            "Epoch 15, Training Loss: 0.9318740394738343, Validation Loss: 0.9092012026480266\n",
            "Epoch 16, Training Loss: 0.9333650144907806, Validation Loss: 0.907660961151123\n",
            "Epoch 17, Training Loss: 0.9308057754963368, Validation Loss: 0.9062074082238334\n",
            "Epoch 18, Training Loss: 0.9283270736535391, Validation Loss: 0.9051189912217004\n",
            "Epoch 19, Training Loss: 0.9270136444955259, Validation Loss: 0.9039412992341178\n",
            "Epoch 20, Training Loss: 0.9257378081480662, Validation Loss: 0.9030259060008186\n",
            "Validation Accuracy: 0.5990990990990991\n",
            "Training with params: {'clip_value': 1.0, 'dropout': 0.5, 'embedding_dim': 300, 'epochs': 20, 'hidden_dim': 64, 'learning_rate': 0.01, 'patience': 5, 'use_attention': True, 'weight_decay': 0.0001}\n",
            "Epoch 1, Training Loss: 1.066832827018188, Validation Loss: 1.0228440995727266\n",
            "Epoch 2, Training Loss: 1.013051828017106, Validation Loss: 0.9793026894330978\n",
            "Epoch 3, Training Loss: 0.9888222494103887, Validation Loss: 0.9563652000256947\n",
            "Epoch 4, Training Loss: 0.9763486651149956, Validation Loss: 0.9435153518404279\n",
            "Epoch 5, Training Loss: 0.9691471779668653, Validation Loss: 0.9342915160315377\n",
            "Epoch 6, Training Loss: 0.9623290638665896, Validation Loss: 0.9277672086443219\n",
            "Epoch 7, Training Loss: 0.9585948111237707, Validation Loss: 0.9222244322299957\n",
            "Epoch 8, Training Loss: 0.9507473411860766, Validation Loss: 0.9169487527438572\n",
            "Epoch 9, Training Loss: 0.9507447102585355, Validation Loss: 0.9133332754884448\n",
            "Epoch 10, Training Loss: 0.9445864547480334, Validation Loss: 0.9110119236367089\n",
            "Epoch 11, Training Loss: 0.942281620728003, Validation Loss: 0.9085995533636638\n",
            "Epoch 12, Training Loss: 0.9398505209802507, Validation Loss: 0.9064212696892875\n",
            "Epoch 13, Training Loss: 0.9389481259895874, Validation Loss: 0.9045111238956451\n",
            "Epoch 14, Training Loss: 0.9352198506260777, Validation Loss: 0.9028029548270362\n",
            "Epoch 15, Training Loss: 0.9328968549096907, Validation Loss: 0.9018396820340838\n",
            "Epoch 16, Training Loss: 0.9312718352219006, Validation Loss: 0.9012202492782048\n",
            "Epoch 17, Training Loss: 0.9322000258677715, Validation Loss: 0.9000213891267776\n",
            "Epoch 18, Training Loss: 0.9303921332230439, Validation Loss: 0.8997961729764938\n",
            "Epoch 19, Training Loss: 0.9299072894427154, Validation Loss: 0.8994647307055337\n",
            "Epoch 20, Training Loss: 0.9291715463539502, Validation Loss: 0.8985684939793178\n",
            "Validation Accuracy: 0.5990990990990991\n",
            "Training with params: {'clip_value': 1.0, 'dropout': 0.5, 'embedding_dim': 300, 'epochs': 20, 'hidden_dim': 64, 'learning_rate': 0.01, 'patience': 5, 'use_attention': True, 'weight_decay': 1e-05}\n",
            "Epoch 1, Training Loss: 1.066101136776778, Validation Loss: 1.0417936593294144\n",
            "Epoch 2, Training Loss: 1.0332474883075233, Validation Loss: 1.011651173233986\n",
            "Epoch 3, Training Loss: 1.0107254963200372, Validation Loss: 0.9850857193980899\n",
            "Epoch 4, Training Loss: 0.9890645602801899, Validation Loss: 0.962715534227235\n",
            "Epoch 5, Training Loss: 0.9769220148120914, Validation Loss: 0.946886556489127\n",
            "Epoch 6, Training Loss: 0.9661375568793701, Validation Loss: 0.9351344853639603\n",
            "Epoch 7, Training Loss: 0.9589209564634271, Validation Loss: 0.9284863663571221\n",
            "Epoch 8, Training Loss: 0.9556429662682988, Validation Loss: 0.9220445113522666\n",
            "Epoch 9, Training Loss: 0.9499201677940987, Validation Loss: 0.9180773709501538\n",
            "Epoch 10, Training Loss: 0.9468492878986908, Validation Loss: 0.9140553772449493\n",
            "Epoch 11, Training Loss: 0.94437702282055, Validation Loss: 0.9115687353270394\n",
            "Epoch 12, Training Loss: 0.940568885287723, Validation Loss: 0.9088541482176099\n",
            "Epoch 13, Training Loss: 0.938950579177152, Validation Loss: 0.9073083656174796\n",
            "Epoch 14, Training Loss: 0.9359638387555475, Validation Loss: 0.9056820528847831\n",
            "Epoch 15, Training Loss: 0.9357468692569045, Validation Loss: 0.9046836176088878\n",
            "Epoch 16, Training Loss: 0.9320826229748426, Validation Loss: 0.9044235348701477\n",
            "Epoch 17, Training Loss: 0.9347899067509282, Validation Loss: 0.9024247782570975\n",
            "Epoch 18, Training Loss: 0.9305473211649302, Validation Loss: 0.9017862358263561\n",
            "Epoch 19, Training Loss: 0.9307936891779169, Validation Loss: 0.9008779994079045\n",
            "Epoch 20, Training Loss: 0.9294291748119904, Validation Loss: 0.8996338269540242\n",
            "Validation Accuracy: 0.5990990990990991\n",
            "Best params: {'clip_value': 1.0, 'dropout': 0.5, 'embedding_dim': 300, 'epochs': 10, 'hidden_dim': 64, 'learning_rate': 0.01, 'patience': 3, 'use_attention': True, 'weight_decay': 0.0001}, Best Validation Accuracy: 0.5990990990990991\n",
            "Epoch 1, Training Loss: 1.0369495663556967, Validation Loss: 0.9886226419891629\n",
            "Epoch 2, Training Loss: 0.9831977679922774, Validation Loss: 0.9511599285261971\n",
            "Epoch 3, Training Loss: 0.9626722306281597, Validation Loss: 0.9358331624950681\n",
            "Epoch 4, Training Loss: 0.9524533319043683, Validation Loss: 0.9281480354922158\n",
            "Epoch 5, Training Loss: 0.9480513914211376, Validation Loss: 0.9234293720551899\n",
            "Epoch 6, Training Loss: 0.9455481891159538, Validation Loss: 0.9194578038794654\n",
            "Epoch 7, Training Loss: 0.9411025192286517, Validation Loss: 0.9176936000585556\n",
            "Epoch 8, Training Loss: 0.9397803907458847, Validation Loss: 0.9154235678059714\n",
            "Epoch 9, Training Loss: 0.9346835586401794, Validation Loss: 0.9147466612713677\n",
            "Epoch 10, Training Loss: 0.9349562901634354, Validation Loss: 0.9119944806609835\n",
            "Final Validation Accuracy: 0.588963963963964\n",
            "Final Validation Precision: 0.42976224456978585\n",
            "Final Validation Recall: 0.588963963963964\n",
            "Final Validation Confusion Matrix:\n",
            "[[  0  80 161]\n",
            " [  0 170  89]\n",
            " [  0  35 353]]\n"
          ]
        },
        {
          "output_type": "stream",
          "name": "stderr",
          "text": [
            "/usr/local/lib/python3.10/dist-packages/sklearn/metrics/_classification.py:1344: UndefinedMetricWarning: Precision is ill-defined and being set to 0.0 in labels with no predicted samples. Use `zero_division` parameter to control this behavior.\n",
            "  _warn_prf(average, modifier, msg_start, len(result))\n",
            "/usr/local/lib/python3.10/dist-packages/sklearn/metrics/_classification.py:1344: UndefinedMetricWarning: Precision is ill-defined and being set to 0.0 in labels with no predicted samples. Use `zero_division` parameter to control this behavior.\n",
            "  _warn_prf(average, modifier, msg_start, len(result))\n"
          ]
        },
        {
          "output_type": "stream",
          "name": "stdout",
          "text": [
            "Final Test Accuracy: 0.5937846836847946\n",
            "Final Test Precision: 0.4324379456039457\n",
            "Final Test Recall: 0.5937846836847946\n",
            "Final Test Confusion Matrix:\n",
            "[[  0  89 156]\n",
            " [  0 166  97]\n",
            " [  0  24 369]]\n"
          ]
        }
      ]
    },
    {
      "cell_type": "markdown",
      "source": [
        "# **3.Testing and Evaluation**"
      ],
      "metadata": {
        "id": "knOJ8HeMY36F"
      }
    },
    {
      "cell_type": "markdown",
      "source": [
        "# **Model Output**"
      ],
      "metadata": {
        "id": "elHjdFkDlh7-"
      }
    },
    {
      "cell_type": "code",
      "source": [
        "final_model"
      ],
      "metadata": {
        "colab": {
          "base_uri": "https://localhost:8080/"
        },
        "id": "Pik55NxGCcEq",
        "outputId": "e634b0ad-d908-4cba-a3d7-9bacce30d2b2"
      },
      "execution_count": null,
      "outputs": [
        {
          "output_type": "execute_result",
          "data": {
            "text/plain": [
              "LSTMModel(\n",
              "  (embedding): Embedding(8659, 300)\n",
              "  (aspect_embedding): Embedding(8, 8)\n",
              "  (lstm): LSTM(308, 64, batch_first=True, bidirectional=True)\n",
              "  (dropout): Dropout(p=0.5, inplace=False)\n",
              "  (fc): Linear(in_features=128, out_features=3, bias=True)\n",
              "  (attention): Linear(in_features=136, out_features=1, bias=True)\n",
              ")"
            ]
          },
          "metadata": {},
          "execution_count": 90
        }
      ]
    },
    {
      "cell_type": "code",
      "source": [
        "# save model\n",
        "torch.save(final_model.state_dict(), 'path_to_final_model.pth')\n",
        "\n",
        "print(\"Model weights have been saved to 'path_to_final_model.pth'.\")"
      ],
      "metadata": {
        "colab": {
          "base_uri": "https://localhost:8080/"
        },
        "id": "8Qz-7b8LIN8m",
        "outputId": "a70bf931-7259-43e5-aeb5-a146995079b4"
      },
      "execution_count": null,
      "outputs": [
        {
          "output_type": "stream",
          "name": "stdout",
          "text": [
            "Model weights have been saved to 'path_to_final_model.pth'.\n"
          ]
        }
      ]
    },
    {
      "cell_type": "code",
      "source": [
        "# change model to evaluation mode\n",
        "model = LSTMModel(len(vocab), 300, 64, 3, len(aspect_to_idx), use_attention=True,return_attention = True, dropout=0.5, embedding_matrix=embedding_matrix)\n",
        "model.load_state_dict(torch.load('path_to_final_model.pth'))\n",
        "model.eval()\n"
      ],
      "metadata": {
        "colab": {
          "base_uri": "https://localhost:8080/"
        },
        "id": "GOYAztMz1mYm",
        "outputId": "5b21f109-e697-4da4-9bed-5a7ab9ee5a1e"
      },
      "execution_count": null,
      "outputs": [
        {
          "output_type": "execute_result",
          "data": {
            "text/plain": [
              "LSTMModel(\n",
              "  (embedding): Embedding(8659, 300)\n",
              "  (aspect_embedding): Embedding(8, 8)\n",
              "  (lstm): LSTM(308, 64, batch_first=True, bidirectional=True)\n",
              "  (dropout): Dropout(p=0.5, inplace=False)\n",
              "  (fc): Linear(in_features=128, out_features=3, bias=True)\n",
              "  (attention): Linear(in_features=136, out_features=1, bias=True)\n",
              ")"
            ]
          },
          "metadata": {},
          "execution_count": 92
        }
      ]
    },
    {
      "cell_type": "code",
      "source": [
        "model1 = LSTMModel(vocab_size, embedding_dim, hidden_dim, output_dim, aspect_dim, use_attention=True, return_attention=True, dropout=0.5, embedding_matrix=embedding_matrix)\n",
        "model1.load_state_dict(torch.load('path_to_final_model_GloVe.pth'))\n",
        "model1.eval()\n"
      ],
      "metadata": {
        "colab": {
          "base_uri": "https://localhost:8080/"
        },
        "id": "CvvN6K086rLu",
        "outputId": "a00d38bf-fff1-420f-f5fa-a0056ca8f98b"
      },
      "execution_count": null,
      "outputs": [
        {
          "output_type": "execute_result",
          "data": {
            "text/plain": [
              "LSTMModel(\n",
              "  (embedding): Embedding(8659, 300)\n",
              "  (aspect_embedding): Embedding(8, 8)\n",
              "  (lstm): LSTM(308, 64, batch_first=True, bidirectional=True)\n",
              "  (dropout): Dropout(p=0.5, inplace=False)\n",
              "  (fc): Linear(in_features=128, out_features=3, bias=True)\n",
              "  (attention): Linear(in_features=136, out_features=1, bias=True)\n",
              ")"
            ]
          },
          "metadata": {},
          "execution_count": 154
        }
      ]
    },
    {
      "cell_type": "markdown",
      "source": [
        "# **Model represent and attention value outuput**"
      ],
      "metadata": {
        "id": "dJkW_lDulpQJ"
      }
    },
    {
      "cell_type": "code",
      "source": [
        "def preprocess_single_input(input_text, input_aspect, word_to_idx, aspect_to_idx):\n",
        "    tokens = word_tokenize(input_text)\n",
        "    indexed_tokens = [word_to_idx.get(token, 0) for token in tokens]\n",
        "    tensor_input = torch.tensor([indexed_tokens], dtype=torch.long)\n",
        "\n",
        "    # returning a default value of 0\n",
        "    aspect_index = torch.tensor([aspect_to_idx.get(input_aspect, 0)], dtype=torch.long)\n",
        "\n",
        "    return tensor_input, aspect_index, tokens\n",
        "\n",
        "def find_aspect_positions(input_text, aspects):\n",
        "    # convert text to lowercase and split\n",
        "    tokens = word_tokenize(input_text.lower())\n",
        "    positions = {}\n",
        "\n",
        "    for aspect in aspects:\n",
        "        try:\n",
        "            # find aspect in input_text\n",
        "            aspect_index = tokens.index(aspect.lower())\n",
        "            positions[aspect] = aspect_index\n",
        "        except ValueError:\n",
        "            positions[aspect] = -1  # if not in, return -1\n",
        "\n",
        "    return positions\n",
        "\n",
        "\n",
        "\n",
        "\n",
        "def decode_output(output_and_attention):\n",
        "    output, attention_weights = output_and_attention\n",
        "    _, predicted_indices = torch.max(output, dim=1)\n",
        "    idx_to_sentiment = {0: 'positive', 1: 'negative', 2: 'neutral'}\n",
        "    predicted_sentiments = [idx_to_sentiment[idx.item()] for idx in predicted_indices]\n",
        "    attention_weights = attention_weights.squeeze(0).detach().numpy()\n",
        "\n",
        "    # normalised attention weight\n",
        "    min_weight = np.min(attention_weights)\n",
        "    max_weight = np.max(attention_weights)\n",
        "    normalized_weights = (attention_weights - min_weight) / (max_weight - min_weight)\n",
        "\n",
        "    # Rescaling the normalised weights to a wider range\n",
        "    enhanced_attention_weights = normalized_weights * 100\n",
        "\n",
        "    predicted_sentiments = ['negative' if weight <= 20 else 'positive' if weight <= 80 else 'neutral' for weight in enhanced_attention_weights]\n",
        "\n",
        "    return predicted_sentiments, enhanced_attention_weights\n",
        "\n",
        "\n",
        "\n",
        "def analyze_sentiment(input_text, aspects):\n",
        "    all_results = []\n",
        "    for aspect in aspects:\n",
        "        processed_input, aspect_index, tokens = preprocess_single_input(input_text, aspect, word_to_idx, aspect_to_idx)\n",
        "        output_and_attention = model1(processed_input, aspect_index)\n",
        "        result, attention_weights = decode_output(output_and_attention)\n",
        "        #print(f\"Result for '{aspect}': {result}\")\n",
        "        all_results.append(result)\n",
        "        position = find_aspect_positions(input_text, aspects)[aspect]\n",
        "        specific_aspect = all_results[0][position]\n",
        "        print(f\"Result for '{aspect}': {specific_aspect}\")\n",
        "\n",
        "\n",
        "\n",
        "    # visualisation of attention value\n",
        "    if attention_weights is not None:\n",
        "        # make sure attention weight is 1d\n",
        "        if attention_weights.ndim > 1:\n",
        "            attention_weights = attention_weights.squeeze()  # remove other dimension\n",
        "        if attention_weights.ndim == 1:\n",
        "            plt.figure(figsize=(10, 10))\n",
        "            plt.bar(tokens, attention_weights, alpha=0.7)\n",
        "            plt.xticks(rotation=45)\n",
        "            plt.title(\"Attention Weights per Token\")\n",
        "            plt.xlabel(\"Tokens\")\n",
        "            plt.ylabel(\"Attention Weight\")\n",
        "            plt.show()\n",
        "        else:\n",
        "            print(\"Attention weights are not properly formatted for visualization.\")\n",
        "\n"
      ],
      "metadata": {
        "id": "ilQ6Kmau6a1m"
      },
      "execution_count": null,
      "outputs": []
    },
    {
      "cell_type": "code",
      "source": [
        "input_text = \"And that is a shame as the restaurant is a pizzeria with a very limited menu outside of pizza\"\n",
        "aspects = [\"restaurant\"]\n",
        "analyze_sentiment(input_text, aspects)\n",
        "\n"
      ],
      "metadata": {
        "colab": {
          "base_uri": "https://localhost:8080/",
          "height": 936
        },
        "id": "6pMrgveV7Bvt",
        "outputId": "d630cb14-b39c-490f-b239-accf4ae95fdb"
      },
      "execution_count": null,
      "outputs": [
        {
          "output_type": "stream",
          "name": "stdout",
          "text": [
            "Result for 'restaurant': negative\n"
          ]
        },
        {
          "output_type": "display_data",
          "data": {
            "text/plain": [
              "<Figure size 1000x1000 with 1 Axes>"
            ],
            "image/png": "[encoded data removed]"
          },
          "metadata": {}
        }
      ]
    },
    {
      "cell_type": "code",
      "source": [
        "input_text = \"great food but the service was dreadful\"\n",
        "aspects = [\"food\", \"service\"]\n",
        "analyze_sentiment(input_text, aspects)"
      ],
      "metadata": {
        "colab": {
          "base_uri": "https://localhost:8080/",
          "height": 944
        },
        "id": "FbkjtOlh7ERy",
        "outputId": "b44a77fe-8bb1-4485-d457-2d4356e8422b"
      },
      "execution_count": null,
      "outputs": [
        {
          "output_type": "stream",
          "name": "stdout",
          "text": [
            "Result for 'food': positive\n",
            "Result for 'service': negative\n"
          ]
        },
        {
          "output_type": "display_data",
          "data": {
            "text/plain": [
              "<Figure size 1000x1000 with 1 Axes>"
            ],
            "image/png": "[encoded data removed]"
          },
          "metadata": {}
        }
      ]
    }
  ]
}